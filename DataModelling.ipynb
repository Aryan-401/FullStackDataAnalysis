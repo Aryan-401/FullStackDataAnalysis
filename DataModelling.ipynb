{
 "cells": [
  {
   "cell_type": "code",
   "execution_count": 1,
   "metadata": {
    "collapsed": true,
    "ExecuteTime": {
     "start_time": "2023-06-08T11:59:10.682060Z",
     "end_time": "2023-06-08T11:59:10.971053Z"
    }
   },
   "outputs": [],
   "source": [
    "import pandas as pd"
   ]
  },
  {
   "cell_type": "code",
   "execution_count": 2,
   "outputs": [
    {
     "name": "stdout",
     "output_type": "stream",
     "text": [
      "(19200, 19)\n"
     ]
    },
    {
     "data": {
      "text/plain": "   VendorID tpep_pickup_datetime tpep_dropoff_datetime  passenger_count  \\\n0         2  2022-01-20 19:12:17   2022-01-20 19:16:35              1.0   \n1         1  2022-01-02 19:16:15   2022-01-02 19:23:56              1.0   \n2         1  2022-01-08 18:23:24   2022-01-08 18:56:33              1.0   \n3         2  2022-01-14 09:30:03   2022-01-14 09:30:22              2.0   \n4         1  2022-01-18 12:40:31   2022-01-18 12:47:19              0.0   \n\n   trip_distance  RatecodeID store_and_fwd_flag  PULocationID  DOLocationID  \\\n0           0.67         1.0                  N           137           233   \n1           2.30         1.0                  N           140           170   \n2          17.20         2.0                  N           132           107   \n3           0.05         1.0                  N            79            79   \n4           0.80         1.0                  N           107           170   \n\n   payment_type  fare_amount  extra  mta_tax  tip_amount  tolls_amount  \\\n0             1          5.0   1.00      0.5        1.86          0.00   \n1             1          9.5   2.50      0.5        3.20          0.00   \n2             1         52.0   3.75      0.5       12.62          6.55   \n3             2          2.5   0.00      0.5        0.00          0.00   \n4             2          6.5   2.50      0.5        0.00          0.00   \n\n   improvement_surcharge  total_amount  congestion_surcharge  airport_fee  \n0                    0.3         11.16                   2.5         0.00  \n1                    0.3         16.00                   2.5         0.00  \n2                    0.3         75.72                   2.5         1.25  \n3                    0.3          5.80                   2.5         0.00  \n4                    0.3          9.80                   2.5         0.00  ",
      "text/html": "<div>\n<style scoped>\n    .dataframe tbody tr th:only-of-type {\n        vertical-align: middle;\n    }\n\n    .dataframe tbody tr th {\n        vertical-align: top;\n    }\n\n    .dataframe thead th {\n        text-align: right;\n    }\n</style>\n<table border=\"1\" class=\"dataframe\">\n  <thead>\n    <tr style=\"text-align: right;\">\n      <th></th>\n      <th>VendorID</th>\n      <th>tpep_pickup_datetime</th>\n      <th>tpep_dropoff_datetime</th>\n      <th>passenger_count</th>\n      <th>trip_distance</th>\n      <th>RatecodeID</th>\n      <th>store_and_fwd_flag</th>\n      <th>PULocationID</th>\n      <th>DOLocationID</th>\n      <th>payment_type</th>\n      <th>fare_amount</th>\n      <th>extra</th>\n      <th>mta_tax</th>\n      <th>tip_amount</th>\n      <th>tolls_amount</th>\n      <th>improvement_surcharge</th>\n      <th>total_amount</th>\n      <th>congestion_surcharge</th>\n      <th>airport_fee</th>\n    </tr>\n  </thead>\n  <tbody>\n    <tr>\n      <th>0</th>\n      <td>2</td>\n      <td>2022-01-20 19:12:17</td>\n      <td>2022-01-20 19:16:35</td>\n      <td>1.0</td>\n      <td>0.67</td>\n      <td>1.0</td>\n      <td>N</td>\n      <td>137</td>\n      <td>233</td>\n      <td>1</td>\n      <td>5.0</td>\n      <td>1.00</td>\n      <td>0.5</td>\n      <td>1.86</td>\n      <td>0.00</td>\n      <td>0.3</td>\n      <td>11.16</td>\n      <td>2.5</td>\n      <td>0.00</td>\n    </tr>\n    <tr>\n      <th>1</th>\n      <td>1</td>\n      <td>2022-01-02 19:16:15</td>\n      <td>2022-01-02 19:23:56</td>\n      <td>1.0</td>\n      <td>2.30</td>\n      <td>1.0</td>\n      <td>N</td>\n      <td>140</td>\n      <td>170</td>\n      <td>1</td>\n      <td>9.5</td>\n      <td>2.50</td>\n      <td>0.5</td>\n      <td>3.20</td>\n      <td>0.00</td>\n      <td>0.3</td>\n      <td>16.00</td>\n      <td>2.5</td>\n      <td>0.00</td>\n    </tr>\n    <tr>\n      <th>2</th>\n      <td>1</td>\n      <td>2022-01-08 18:23:24</td>\n      <td>2022-01-08 18:56:33</td>\n      <td>1.0</td>\n      <td>17.20</td>\n      <td>2.0</td>\n      <td>N</td>\n      <td>132</td>\n      <td>107</td>\n      <td>1</td>\n      <td>52.0</td>\n      <td>3.75</td>\n      <td>0.5</td>\n      <td>12.62</td>\n      <td>6.55</td>\n      <td>0.3</td>\n      <td>75.72</td>\n      <td>2.5</td>\n      <td>1.25</td>\n    </tr>\n    <tr>\n      <th>3</th>\n      <td>2</td>\n      <td>2022-01-14 09:30:03</td>\n      <td>2022-01-14 09:30:22</td>\n      <td>2.0</td>\n      <td>0.05</td>\n      <td>1.0</td>\n      <td>N</td>\n      <td>79</td>\n      <td>79</td>\n      <td>2</td>\n      <td>2.5</td>\n      <td>0.00</td>\n      <td>0.5</td>\n      <td>0.00</td>\n      <td>0.00</td>\n      <td>0.3</td>\n      <td>5.80</td>\n      <td>2.5</td>\n      <td>0.00</td>\n    </tr>\n    <tr>\n      <th>4</th>\n      <td>1</td>\n      <td>2022-01-18 12:40:31</td>\n      <td>2022-01-18 12:47:19</td>\n      <td>0.0</td>\n      <td>0.80</td>\n      <td>1.0</td>\n      <td>N</td>\n      <td>107</td>\n      <td>170</td>\n      <td>2</td>\n      <td>6.5</td>\n      <td>2.50</td>\n      <td>0.5</td>\n      <td>0.00</td>\n      <td>0.00</td>\n      <td>0.3</td>\n      <td>9.80</td>\n      <td>2.5</td>\n      <td>0.00</td>\n    </tr>\n  </tbody>\n</table>\n</div>"
     },
     "execution_count": 2,
     "metadata": {},
     "output_type": "execute_result"
    }
   ],
   "source": [
    "df = pd.read_csv('data/yellow_tripdata_2022_sample.csv')  # sampling data\n",
    "df_taxi_zone = pd.read_csv('data/taxi_zones.csv')\n",
    "print(df.shape)\n",
    "df.head()"
   ],
   "metadata": {
    "collapsed": false,
    "ExecuteTime": {
     "start_time": "2023-06-08T11:59:10.974054Z",
     "end_time": "2023-06-08T11:59:11.035059Z"
    }
   }
  },
  {
   "cell_type": "code",
   "execution_count": 3,
   "outputs": [],
   "source": [
    "def get_coordinates(id, column='x'):\n",
    "    try:\n",
    "        return df_taxi_zone[df_taxi_zone['location_id'] == id][[f'coordinate_{column}']].values[0][0]\n",
    "    except IndexError:\n",
    "        return 0"
   ],
   "metadata": {
    "collapsed": false,
    "ExecuteTime": {
     "start_time": "2023-06-08T11:59:11.037052Z",
     "end_time": "2023-06-08T11:59:11.050277Z"
    }
   }
  },
  {
   "cell_type": "code",
   "execution_count": 4,
   "outputs": [
    {
     "data": {
      "text/plain": "(-73.84742223236718, 0)"
     },
     "execution_count": 4,
     "metadata": {},
     "output_type": "execute_result"
    }
   ],
   "source": [
    "get_coordinates(3), get_coordinates(2024)  #Testing Function"
   ],
   "metadata": {
    "collapsed": false,
    "ExecuteTime": {
     "start_time": "2023-06-08T11:59:11.052277Z",
     "end_time": "2023-06-08T11:59:11.109666Z"
    }
   }
  },
  {
   "cell_type": "code",
   "execution_count": 5,
   "outputs": [],
   "source": [
    "df.dropna(inplace=True)"
   ],
   "metadata": {
    "collapsed": false,
    "ExecuteTime": {
     "start_time": "2023-06-08T11:59:11.067227Z",
     "end_time": "2023-06-08T11:59:11.156400Z"
    }
   }
  },
  {
   "cell_type": "code",
   "execution_count": 6,
   "outputs": [
    {
     "data": {
      "text/plain": "(18546, 19)"
     },
     "execution_count": 6,
     "metadata": {},
     "output_type": "execute_result"
    }
   ],
   "source": [
    "df.shape"
   ],
   "metadata": {
    "collapsed": false,
    "ExecuteTime": {
     "start_time": "2023-06-08T11:59:11.083153Z",
     "end_time": "2023-06-08T11:59:11.170393Z"
    }
   }
  },
  {
   "cell_type": "code",
   "execution_count": 7,
   "outputs": [
    {
     "data": {
      "text/plain": "     location_id                       zone  coordinate_x  coordinate_y\n0              1             Newark Airport    -74.174000     40.691831\n1              2                Jamaica Bay    -73.831299     40.616745\n2              3    Allerton/Pelham Gardens    -73.847422     40.864474\n3              4              Alphabet City    -73.976968     40.723752\n4              5              Arden Heights    -74.188484     40.552659\n..           ...                        ...           ...           ...\n258          256  Williamsburg (South Side)    -73.959905     40.710880\n259          259         Woodlawn/Wakefield    -73.852215     40.897932\n260          260                   Woodside    -73.906306     40.744235\n261          261         World Trade Center    -74.013023     40.709139\n262          262             Yorkville East    -73.946510     40.775932\n\n[263 rows x 4 columns]",
      "text/html": "<div>\n<style scoped>\n    .dataframe tbody tr th:only-of-type {\n        vertical-align: middle;\n    }\n\n    .dataframe tbody tr th {\n        vertical-align: top;\n    }\n\n    .dataframe thead th {\n        text-align: right;\n    }\n</style>\n<table border=\"1\" class=\"dataframe\">\n  <thead>\n    <tr style=\"text-align: right;\">\n      <th></th>\n      <th>location_id</th>\n      <th>zone</th>\n      <th>coordinate_x</th>\n      <th>coordinate_y</th>\n    </tr>\n  </thead>\n  <tbody>\n    <tr>\n      <th>0</th>\n      <td>1</td>\n      <td>Newark Airport</td>\n      <td>-74.174000</td>\n      <td>40.691831</td>\n    </tr>\n    <tr>\n      <th>1</th>\n      <td>2</td>\n      <td>Jamaica Bay</td>\n      <td>-73.831299</td>\n      <td>40.616745</td>\n    </tr>\n    <tr>\n      <th>2</th>\n      <td>3</td>\n      <td>Allerton/Pelham Gardens</td>\n      <td>-73.847422</td>\n      <td>40.864474</td>\n    </tr>\n    <tr>\n      <th>3</th>\n      <td>4</td>\n      <td>Alphabet City</td>\n      <td>-73.976968</td>\n      <td>40.723752</td>\n    </tr>\n    <tr>\n      <th>4</th>\n      <td>5</td>\n      <td>Arden Heights</td>\n      <td>-74.188484</td>\n      <td>40.552659</td>\n    </tr>\n    <tr>\n      <th>...</th>\n      <td>...</td>\n      <td>...</td>\n      <td>...</td>\n      <td>...</td>\n    </tr>\n    <tr>\n      <th>258</th>\n      <td>256</td>\n      <td>Williamsburg (South Side)</td>\n      <td>-73.959905</td>\n      <td>40.710880</td>\n    </tr>\n    <tr>\n      <th>259</th>\n      <td>259</td>\n      <td>Woodlawn/Wakefield</td>\n      <td>-73.852215</td>\n      <td>40.897932</td>\n    </tr>\n    <tr>\n      <th>260</th>\n      <td>260</td>\n      <td>Woodside</td>\n      <td>-73.906306</td>\n      <td>40.744235</td>\n    </tr>\n    <tr>\n      <th>261</th>\n      <td>261</td>\n      <td>World Trade Center</td>\n      <td>-74.013023</td>\n      <td>40.709139</td>\n    </tr>\n    <tr>\n      <th>262</th>\n      <td>262</td>\n      <td>Yorkville East</td>\n      <td>-73.946510</td>\n      <td>40.775932</td>\n    </tr>\n  </tbody>\n</table>\n<p>263 rows × 4 columns</p>\n</div>"
     },
     "execution_count": 7,
     "metadata": {},
     "output_type": "execute_result"
    }
   ],
   "source": [
    "df_taxi_zone"
   ],
   "metadata": {
    "collapsed": false,
    "ExecuteTime": {
     "start_time": "2023-06-08T11:59:11.097501Z",
     "end_time": "2023-06-08T11:59:11.171393Z"
    }
   }
  },
  {
   "cell_type": "code",
   "execution_count": 8,
   "outputs": [
    {
     "name": "stdout",
     "output_type": "stream",
     "text": [
      "PULocation_x done\n",
      "PULocation_y done\n",
      "DOLocation_x done\n",
      "DOLocation_y done\n"
     ]
    }
   ],
   "source": [
    "df[\"PULocation_x\"]= df.apply(lambda row: get_coordinates(row[\"PULocationID\"]), axis=1)\n",
    "print('PULocation_x done')\n",
    "df[\"PULocation_y\"]= df.apply(lambda row: get_coordinates(row[\"PULocationID\"], 'y'), axis=1)\n",
    "print('PULocation_y done')\n",
    "df[\"DOLocation_x\"]= df.apply(lambda row: get_coordinates(row[\"DOLocationID\"]), axis=1)\n",
    "print('DOLocation_x done')\n",
    "df[\"DOLocation_y\"]= df.apply(lambda row: get_coordinates(row[\"PULocationID\"],'y'), axis=1)\n",
    "print('DOLocation_y done')\n",
    "\n",
    "df.drop(['PULocationID', 'DOLocationID'], axis=1, inplace=True)"
   ],
   "metadata": {
    "collapsed": false,
    "ExecuteTime": {
     "start_time": "2023-06-08T11:59:11.115684Z",
     "end_time": "2023-06-08T11:59:48.758140Z"
    }
   }
  },
  {
   "cell_type": "code",
   "execution_count": 9,
   "outputs": [
    {
     "name": "stdout",
     "output_type": "stream",
     "text": [
      "<class 'pandas.core.frame.DataFrame'>\n",
      "Index: 18546 entries, 0 to 19199\n",
      "Data columns (total 21 columns):\n",
      " #   Column                 Non-Null Count  Dtype  \n",
      "---  ------                 --------------  -----  \n",
      " 0   VendorID               18546 non-null  int64  \n",
      " 1   tpep_pickup_datetime   18546 non-null  object \n",
      " 2   tpep_dropoff_datetime  18546 non-null  object \n",
      " 3   passenger_count        18546 non-null  float64\n",
      " 4   trip_distance          18546 non-null  float64\n",
      " 5   RatecodeID             18546 non-null  float64\n",
      " 6   store_and_fwd_flag     18546 non-null  object \n",
      " 7   payment_type           18546 non-null  int64  \n",
      " 8   fare_amount            18546 non-null  float64\n",
      " 9   extra                  18546 non-null  float64\n",
      " 10  mta_tax                18546 non-null  float64\n",
      " 11  tip_amount             18546 non-null  float64\n",
      " 12  tolls_amount           18546 non-null  float64\n",
      " 13  improvement_surcharge  18546 non-null  float64\n",
      " 14  total_amount           18546 non-null  float64\n",
      " 15  congestion_surcharge   18546 non-null  float64\n",
      " 16  airport_fee            18546 non-null  float64\n",
      " 17  PULocation_x           18546 non-null  float64\n",
      " 18  PULocation_y           18546 non-null  float64\n",
      " 19  DOLocation_x           18546 non-null  float64\n",
      " 20  DOLocation_y           18546 non-null  float64\n",
      "dtypes: float64(16), int64(2), object(3)\n",
      "memory usage: 3.1+ MB\n"
     ]
    }
   ],
   "source": [
    "df.info()"
   ],
   "metadata": {
    "collapsed": false,
    "ExecuteTime": {
     "start_time": "2023-06-08T11:59:48.762042Z",
     "end_time": "2023-06-08T11:59:48.831496Z"
    }
   }
  },
  {
   "cell_type": "code",
   "execution_count": 10,
   "outputs": [],
   "source": [
    "df['tpep_pickup_datetime'] = pd.to_datetime(df['tpep_pickup_datetime'])\n",
    "df['tpep_dropoff_datetime'] = pd.to_datetime(df['tpep_dropoff_datetime'])"
   ],
   "metadata": {
    "collapsed": false,
    "ExecuteTime": {
     "start_time": "2023-06-08T11:59:48.777452Z",
     "end_time": "2023-06-08T11:59:48.836011Z"
    }
   }
  },
  {
   "cell_type": "code",
   "execution_count": 11,
   "outputs": [
    {
     "name": "stdout",
     "output_type": "stream",
     "text": [
      "<class 'pandas.core.frame.DataFrame'>\n",
      "Index: 18546 entries, 0 to 19199\n",
      "Data columns (total 21 columns):\n",
      " #   Column                 Non-Null Count  Dtype         \n",
      "---  ------                 --------------  -----         \n",
      " 0   VendorID               18546 non-null  int64         \n",
      " 1   tpep_pickup_datetime   18546 non-null  datetime64[ns]\n",
      " 2   tpep_dropoff_datetime  18546 non-null  datetime64[ns]\n",
      " 3   passenger_count        18546 non-null  float64       \n",
      " 4   trip_distance          18546 non-null  float64       \n",
      " 5   RatecodeID             18546 non-null  float64       \n",
      " 6   store_and_fwd_flag     18546 non-null  object        \n",
      " 7   payment_type           18546 non-null  int64         \n",
      " 8   fare_amount            18546 non-null  float64       \n",
      " 9   extra                  18546 non-null  float64       \n",
      " 10  mta_tax                18546 non-null  float64       \n",
      " 11  tip_amount             18546 non-null  float64       \n",
      " 12  tolls_amount           18546 non-null  float64       \n",
      " 13  improvement_surcharge  18546 non-null  float64       \n",
      " 14  total_amount           18546 non-null  float64       \n",
      " 15  congestion_surcharge   18546 non-null  float64       \n",
      " 16  airport_fee            18546 non-null  float64       \n",
      " 17  PULocation_x           18546 non-null  float64       \n",
      " 18  PULocation_y           18546 non-null  float64       \n",
      " 19  DOLocation_x           18546 non-null  float64       \n",
      " 20  DOLocation_y           18546 non-null  float64       \n",
      "dtypes: datetime64[ns](2), float64(16), int64(2), object(1)\n",
      "memory usage: 3.1+ MB\n"
     ]
    }
   ],
   "source": [
    "df.info()"
   ],
   "metadata": {
    "collapsed": false,
    "ExecuteTime": {
     "start_time": "2023-06-08T11:59:48.820195Z",
     "end_time": "2023-06-08T11:59:48.837296Z"
    }
   }
  },
  {
   "cell_type": "code",
   "execution_count": 12,
   "outputs": [],
   "source": [
    "df = df.drop_duplicates().reset_index(drop=True)\n",
    "df['trip_id'] = df.index"
   ],
   "metadata": {
    "collapsed": false,
    "ExecuteTime": {
     "start_time": "2023-06-08T11:59:48.836011Z",
     "end_time": "2023-06-08T11:59:48.910415Z"
    }
   }
  },
  {
   "cell_type": "code",
   "execution_count": 13,
   "outputs": [
    {
     "data": {
      "text/plain": "      tpep_pickup_datetime tpep_dropoff_datetime  pick_hour  pick_day  \\\n0      2022-01-20 19:12:17   2022-01-20 19:16:35         19        20   \n1      2022-01-02 19:16:15   2022-01-02 19:23:56         19         2   \n2      2022-01-08 18:23:24   2022-01-08 18:56:33         18         8   \n3      2022-01-14 09:30:03   2022-01-14 09:30:22          9        14   \n4      2022-01-18 12:40:31   2022-01-18 12:47:19         12        18   \n...                    ...                   ...        ...       ...   \n18541  2022-12-14 21:37:24   2022-12-14 21:59:17         21        14   \n18542  2022-12-23 14:45:08   2022-12-23 15:04:14         14        23   \n18543  2022-12-23 15:54:34   2022-12-23 15:59:58         15        23   \n18544  2022-12-20 01:31:22   2022-12-20 01:48:56          1        20   \n18545  2022-12-17 19:56:31   2022-12-17 20:08:30         19        17   \n\n       pick_month  pick_year  pick_weekday  drop_hour  drop_day  drop_month  \\\n0               1       2022             3         19        20           1   \n1               1       2022             6         19         2           1   \n2               1       2022             5         18         8           1   \n3               1       2022             4          9        14           1   \n4               1       2022             1         12        18           1   \n...           ...        ...           ...        ...       ...         ...   \n18541          12       2022             2         21        14          12   \n18542          12       2022             4         14        23          12   \n18543          12       2022             4         15        23          12   \n18544          12       2022             1          1        20          12   \n18545          12       2022             5         19        17          12   \n\n       drop_year  drop_weekday  \n0           2022             3  \n1           2022             6  \n2           2022             5  \n3           2022             4  \n4           2022             1  \n...          ...           ...  \n18541       2022             2  \n18542       2022             4  \n18543       2022             4  \n18544       2022             1  \n18545       2022             5  \n\n[18546 rows x 12 columns]",
      "text/html": "<div>\n<style scoped>\n    .dataframe tbody tr th:only-of-type {\n        vertical-align: middle;\n    }\n\n    .dataframe tbody tr th {\n        vertical-align: top;\n    }\n\n    .dataframe thead th {\n        text-align: right;\n    }\n</style>\n<table border=\"1\" class=\"dataframe\">\n  <thead>\n    <tr style=\"text-align: right;\">\n      <th></th>\n      <th>tpep_pickup_datetime</th>\n      <th>tpep_dropoff_datetime</th>\n      <th>pick_hour</th>\n      <th>pick_day</th>\n      <th>pick_month</th>\n      <th>pick_year</th>\n      <th>pick_weekday</th>\n      <th>drop_hour</th>\n      <th>drop_day</th>\n      <th>drop_month</th>\n      <th>drop_year</th>\n      <th>drop_weekday</th>\n    </tr>\n  </thead>\n  <tbody>\n    <tr>\n      <th>0</th>\n      <td>2022-01-20 19:12:17</td>\n      <td>2022-01-20 19:16:35</td>\n      <td>19</td>\n      <td>20</td>\n      <td>1</td>\n      <td>2022</td>\n      <td>3</td>\n      <td>19</td>\n      <td>20</td>\n      <td>1</td>\n      <td>2022</td>\n      <td>3</td>\n    </tr>\n    <tr>\n      <th>1</th>\n      <td>2022-01-02 19:16:15</td>\n      <td>2022-01-02 19:23:56</td>\n      <td>19</td>\n      <td>2</td>\n      <td>1</td>\n      <td>2022</td>\n      <td>6</td>\n      <td>19</td>\n      <td>2</td>\n      <td>1</td>\n      <td>2022</td>\n      <td>6</td>\n    </tr>\n    <tr>\n      <th>2</th>\n      <td>2022-01-08 18:23:24</td>\n      <td>2022-01-08 18:56:33</td>\n      <td>18</td>\n      <td>8</td>\n      <td>1</td>\n      <td>2022</td>\n      <td>5</td>\n      <td>18</td>\n      <td>8</td>\n      <td>1</td>\n      <td>2022</td>\n      <td>5</td>\n    </tr>\n    <tr>\n      <th>3</th>\n      <td>2022-01-14 09:30:03</td>\n      <td>2022-01-14 09:30:22</td>\n      <td>9</td>\n      <td>14</td>\n      <td>1</td>\n      <td>2022</td>\n      <td>4</td>\n      <td>9</td>\n      <td>14</td>\n      <td>1</td>\n      <td>2022</td>\n      <td>4</td>\n    </tr>\n    <tr>\n      <th>4</th>\n      <td>2022-01-18 12:40:31</td>\n      <td>2022-01-18 12:47:19</td>\n      <td>12</td>\n      <td>18</td>\n      <td>1</td>\n      <td>2022</td>\n      <td>1</td>\n      <td>12</td>\n      <td>18</td>\n      <td>1</td>\n      <td>2022</td>\n      <td>1</td>\n    </tr>\n    <tr>\n      <th>...</th>\n      <td>...</td>\n      <td>...</td>\n      <td>...</td>\n      <td>...</td>\n      <td>...</td>\n      <td>...</td>\n      <td>...</td>\n      <td>...</td>\n      <td>...</td>\n      <td>...</td>\n      <td>...</td>\n      <td>...</td>\n    </tr>\n    <tr>\n      <th>18541</th>\n      <td>2022-12-14 21:37:24</td>\n      <td>2022-12-14 21:59:17</td>\n      <td>21</td>\n      <td>14</td>\n      <td>12</td>\n      <td>2022</td>\n      <td>2</td>\n      <td>21</td>\n      <td>14</td>\n      <td>12</td>\n      <td>2022</td>\n      <td>2</td>\n    </tr>\n    <tr>\n      <th>18542</th>\n      <td>2022-12-23 14:45:08</td>\n      <td>2022-12-23 15:04:14</td>\n      <td>14</td>\n      <td>23</td>\n      <td>12</td>\n      <td>2022</td>\n      <td>4</td>\n      <td>14</td>\n      <td>23</td>\n      <td>12</td>\n      <td>2022</td>\n      <td>4</td>\n    </tr>\n    <tr>\n      <th>18543</th>\n      <td>2022-12-23 15:54:34</td>\n      <td>2022-12-23 15:59:58</td>\n      <td>15</td>\n      <td>23</td>\n      <td>12</td>\n      <td>2022</td>\n      <td>4</td>\n      <td>15</td>\n      <td>23</td>\n      <td>12</td>\n      <td>2022</td>\n      <td>4</td>\n    </tr>\n    <tr>\n      <th>18544</th>\n      <td>2022-12-20 01:31:22</td>\n      <td>2022-12-20 01:48:56</td>\n      <td>1</td>\n      <td>20</td>\n      <td>12</td>\n      <td>2022</td>\n      <td>1</td>\n      <td>1</td>\n      <td>20</td>\n      <td>12</td>\n      <td>2022</td>\n      <td>1</td>\n    </tr>\n    <tr>\n      <th>18545</th>\n      <td>2022-12-17 19:56:31</td>\n      <td>2022-12-17 20:08:30</td>\n      <td>19</td>\n      <td>17</td>\n      <td>12</td>\n      <td>2022</td>\n      <td>5</td>\n      <td>19</td>\n      <td>17</td>\n      <td>12</td>\n      <td>2022</td>\n      <td>5</td>\n    </tr>\n  </tbody>\n</table>\n<p>18546 rows × 12 columns</p>\n</div>"
     },
     "execution_count": 13,
     "metadata": {},
     "output_type": "execute_result"
    }
   ],
   "source": [
    "datetime_dim = df[['tpep_pickup_datetime', 'tpep_dropoff_datetime']].reset_index(drop=True)\n",
    "datetime_dim['pick_hour'] = datetime_dim['tpep_pickup_datetime'].dt.hour\n",
    "datetime_dim['pick_day'] = datetime_dim['tpep_pickup_datetime'].dt.day\n",
    "datetime_dim['pick_month'] = datetime_dim['tpep_pickup_datetime'].dt.month\n",
    "datetime_dim['pick_year'] = datetime_dim['tpep_pickup_datetime'].dt.year\n",
    "datetime_dim['pick_weekday'] = datetime_dim['tpep_pickup_datetime'].dt.weekday\n",
    "\n",
    "\n",
    "datetime_dim['drop_hour'] = datetime_dim['tpep_pickup_datetime'].dt.hour\n",
    "datetime_dim['drop_day'] = datetime_dim['tpep_pickup_datetime'].dt.day\n",
    "datetime_dim['drop_month'] = datetime_dim['tpep_pickup_datetime'].dt.month\n",
    "datetime_dim['drop_year'] = datetime_dim['tpep_pickup_datetime'].dt.year\n",
    "datetime_dim['drop_weekday'] = datetime_dim['tpep_pickup_datetime'].dt.weekday\n",
    "\n",
    "datetime_dim"
   ],
   "metadata": {
    "collapsed": false,
    "ExecuteTime": {
     "start_time": "2023-06-08T11:59:48.868590Z",
     "end_time": "2023-06-08T11:59:48.915872Z"
    }
   }
  },
  {
   "cell_type": "code",
   "execution_count": 14,
   "outputs": [],
   "source": [
    "datetime_dim['datetime_id'] = datetime_dim.index"
   ],
   "metadata": {
    "collapsed": false,
    "ExecuteTime": {
     "start_time": "2023-06-08T11:59:48.897898Z",
     "end_time": "2023-06-08T11:59:48.916981Z"
    }
   }
  },
  {
   "cell_type": "code",
   "execution_count": 15,
   "outputs": [],
   "source": [
    "datetime_dim = datetime_dim[['datetime_id', 'tpep_pickup_datetime', 'pick_hour', 'pick_day', 'pick_month', 'pick_year', 'pick_weekday',\n",
    "       'tpep_dropoff_datetime', 'drop_hour', 'drop_day', 'drop_month', 'drop_year', 'drop_weekday']]"
   ],
   "metadata": {
    "collapsed": false,
    "ExecuteTime": {
     "start_time": "2023-06-08T11:59:48.917873Z",
     "end_time": "2023-06-08T11:59:48.928588Z"
    }
   }
  },
  {
   "cell_type": "code",
   "execution_count": 16,
   "outputs": [
    {
     "data": {
      "text/plain": "       datetime_id tpep_pickup_datetime  pick_hour  pick_day  pick_month  \\\n0                0  2022-01-20 19:12:17         19        20           1   \n1                1  2022-01-02 19:16:15         19         2           1   \n2                2  2022-01-08 18:23:24         18         8           1   \n3                3  2022-01-14 09:30:03          9        14           1   \n4                4  2022-01-18 12:40:31         12        18           1   \n...            ...                  ...        ...       ...         ...   \n18541        18541  2022-12-14 21:37:24         21        14          12   \n18542        18542  2022-12-23 14:45:08         14        23          12   \n18543        18543  2022-12-23 15:54:34         15        23          12   \n18544        18544  2022-12-20 01:31:22          1        20          12   \n18545        18545  2022-12-17 19:56:31         19        17          12   \n\n       pick_year  pick_weekday tpep_dropoff_datetime  drop_hour  drop_day  \\\n0           2022             3   2022-01-20 19:16:35         19        20   \n1           2022             6   2022-01-02 19:23:56         19         2   \n2           2022             5   2022-01-08 18:56:33         18         8   \n3           2022             4   2022-01-14 09:30:22          9        14   \n4           2022             1   2022-01-18 12:47:19         12        18   \n...          ...           ...                   ...        ...       ...   \n18541       2022             2   2022-12-14 21:59:17         21        14   \n18542       2022             4   2022-12-23 15:04:14         14        23   \n18543       2022             4   2022-12-23 15:59:58         15        23   \n18544       2022             1   2022-12-20 01:48:56          1        20   \n18545       2022             5   2022-12-17 20:08:30         19        17   \n\n       drop_month  drop_year  drop_weekday  \n0               1       2022             3  \n1               1       2022             6  \n2               1       2022             5  \n3               1       2022             4  \n4               1       2022             1  \n...           ...        ...           ...  \n18541          12       2022             2  \n18542          12       2022             4  \n18543          12       2022             4  \n18544          12       2022             1  \n18545          12       2022             5  \n\n[18546 rows x 13 columns]",
      "text/html": "<div>\n<style scoped>\n    .dataframe tbody tr th:only-of-type {\n        vertical-align: middle;\n    }\n\n    .dataframe tbody tr th {\n        vertical-align: top;\n    }\n\n    .dataframe thead th {\n        text-align: right;\n    }\n</style>\n<table border=\"1\" class=\"dataframe\">\n  <thead>\n    <tr style=\"text-align: right;\">\n      <th></th>\n      <th>datetime_id</th>\n      <th>tpep_pickup_datetime</th>\n      <th>pick_hour</th>\n      <th>pick_day</th>\n      <th>pick_month</th>\n      <th>pick_year</th>\n      <th>pick_weekday</th>\n      <th>tpep_dropoff_datetime</th>\n      <th>drop_hour</th>\n      <th>drop_day</th>\n      <th>drop_month</th>\n      <th>drop_year</th>\n      <th>drop_weekday</th>\n    </tr>\n  </thead>\n  <tbody>\n    <tr>\n      <th>0</th>\n      <td>0</td>\n      <td>2022-01-20 19:12:17</td>\n      <td>19</td>\n      <td>20</td>\n      <td>1</td>\n      <td>2022</td>\n      <td>3</td>\n      <td>2022-01-20 19:16:35</td>\n      <td>19</td>\n      <td>20</td>\n      <td>1</td>\n      <td>2022</td>\n      <td>3</td>\n    </tr>\n    <tr>\n      <th>1</th>\n      <td>1</td>\n      <td>2022-01-02 19:16:15</td>\n      <td>19</td>\n      <td>2</td>\n      <td>1</td>\n      <td>2022</td>\n      <td>6</td>\n      <td>2022-01-02 19:23:56</td>\n      <td>19</td>\n      <td>2</td>\n      <td>1</td>\n      <td>2022</td>\n      <td>6</td>\n    </tr>\n    <tr>\n      <th>2</th>\n      <td>2</td>\n      <td>2022-01-08 18:23:24</td>\n      <td>18</td>\n      <td>8</td>\n      <td>1</td>\n      <td>2022</td>\n      <td>5</td>\n      <td>2022-01-08 18:56:33</td>\n      <td>18</td>\n      <td>8</td>\n      <td>1</td>\n      <td>2022</td>\n      <td>5</td>\n    </tr>\n    <tr>\n      <th>3</th>\n      <td>3</td>\n      <td>2022-01-14 09:30:03</td>\n      <td>9</td>\n      <td>14</td>\n      <td>1</td>\n      <td>2022</td>\n      <td>4</td>\n      <td>2022-01-14 09:30:22</td>\n      <td>9</td>\n      <td>14</td>\n      <td>1</td>\n      <td>2022</td>\n      <td>4</td>\n    </tr>\n    <tr>\n      <th>4</th>\n      <td>4</td>\n      <td>2022-01-18 12:40:31</td>\n      <td>12</td>\n      <td>18</td>\n      <td>1</td>\n      <td>2022</td>\n      <td>1</td>\n      <td>2022-01-18 12:47:19</td>\n      <td>12</td>\n      <td>18</td>\n      <td>1</td>\n      <td>2022</td>\n      <td>1</td>\n    </tr>\n    <tr>\n      <th>...</th>\n      <td>...</td>\n      <td>...</td>\n      <td>...</td>\n      <td>...</td>\n      <td>...</td>\n      <td>...</td>\n      <td>...</td>\n      <td>...</td>\n      <td>...</td>\n      <td>...</td>\n      <td>...</td>\n      <td>...</td>\n      <td>...</td>\n    </tr>\n    <tr>\n      <th>18541</th>\n      <td>18541</td>\n      <td>2022-12-14 21:37:24</td>\n      <td>21</td>\n      <td>14</td>\n      <td>12</td>\n      <td>2022</td>\n      <td>2</td>\n      <td>2022-12-14 21:59:17</td>\n      <td>21</td>\n      <td>14</td>\n      <td>12</td>\n      <td>2022</td>\n      <td>2</td>\n    </tr>\n    <tr>\n      <th>18542</th>\n      <td>18542</td>\n      <td>2022-12-23 14:45:08</td>\n      <td>14</td>\n      <td>23</td>\n      <td>12</td>\n      <td>2022</td>\n      <td>4</td>\n      <td>2022-12-23 15:04:14</td>\n      <td>14</td>\n      <td>23</td>\n      <td>12</td>\n      <td>2022</td>\n      <td>4</td>\n    </tr>\n    <tr>\n      <th>18543</th>\n      <td>18543</td>\n      <td>2022-12-23 15:54:34</td>\n      <td>15</td>\n      <td>23</td>\n      <td>12</td>\n      <td>2022</td>\n      <td>4</td>\n      <td>2022-12-23 15:59:58</td>\n      <td>15</td>\n      <td>23</td>\n      <td>12</td>\n      <td>2022</td>\n      <td>4</td>\n    </tr>\n    <tr>\n      <th>18544</th>\n      <td>18544</td>\n      <td>2022-12-20 01:31:22</td>\n      <td>1</td>\n      <td>20</td>\n      <td>12</td>\n      <td>2022</td>\n      <td>1</td>\n      <td>2022-12-20 01:48:56</td>\n      <td>1</td>\n      <td>20</td>\n      <td>12</td>\n      <td>2022</td>\n      <td>1</td>\n    </tr>\n    <tr>\n      <th>18545</th>\n      <td>18545</td>\n      <td>2022-12-17 19:56:31</td>\n      <td>19</td>\n      <td>17</td>\n      <td>12</td>\n      <td>2022</td>\n      <td>5</td>\n      <td>2022-12-17 20:08:30</td>\n      <td>19</td>\n      <td>17</td>\n      <td>12</td>\n      <td>2022</td>\n      <td>5</td>\n    </tr>\n  </tbody>\n</table>\n<p>18546 rows × 13 columns</p>\n</div>"
     },
     "execution_count": 16,
     "metadata": {},
     "output_type": "execute_result"
    }
   ],
   "source": [
    "datetime_dim"
   ],
   "metadata": {
    "collapsed": false,
    "ExecuteTime": {
     "start_time": "2023-06-08T11:59:48.932104Z",
     "end_time": "2023-06-08T11:59:48.961085Z"
    }
   }
  },
  {
   "cell_type": "code",
   "execution_count": 17,
   "outputs": [
    {
     "data": {
      "text/plain": "       passenger_count_id  passenger_count\n0                       0                1\n1                       1                1\n2                       2                1\n3                       3                2\n4                       4                0\n...                   ...              ...\n18541               18541                1\n18542               18542                6\n18543               18543                1\n18544               18544                1\n18545               18545                1\n\n[18546 rows x 2 columns]",
      "text/html": "<div>\n<style scoped>\n    .dataframe tbody tr th:only-of-type {\n        vertical-align: middle;\n    }\n\n    .dataframe tbody tr th {\n        vertical-align: top;\n    }\n\n    .dataframe thead th {\n        text-align: right;\n    }\n</style>\n<table border=\"1\" class=\"dataframe\">\n  <thead>\n    <tr style=\"text-align: right;\">\n      <th></th>\n      <th>passenger_count_id</th>\n      <th>passenger_count</th>\n    </tr>\n  </thead>\n  <tbody>\n    <tr>\n      <th>0</th>\n      <td>0</td>\n      <td>1</td>\n    </tr>\n    <tr>\n      <th>1</th>\n      <td>1</td>\n      <td>1</td>\n    </tr>\n    <tr>\n      <th>2</th>\n      <td>2</td>\n      <td>1</td>\n    </tr>\n    <tr>\n      <th>3</th>\n      <td>3</td>\n      <td>2</td>\n    </tr>\n    <tr>\n      <th>4</th>\n      <td>4</td>\n      <td>0</td>\n    </tr>\n    <tr>\n      <th>...</th>\n      <td>...</td>\n      <td>...</td>\n    </tr>\n    <tr>\n      <th>18541</th>\n      <td>18541</td>\n      <td>1</td>\n    </tr>\n    <tr>\n      <th>18542</th>\n      <td>18542</td>\n      <td>6</td>\n    </tr>\n    <tr>\n      <th>18543</th>\n      <td>18543</td>\n      <td>1</td>\n    </tr>\n    <tr>\n      <th>18544</th>\n      <td>18544</td>\n      <td>1</td>\n    </tr>\n    <tr>\n      <th>18545</th>\n      <td>18545</td>\n      <td>1</td>\n    </tr>\n  </tbody>\n</table>\n<p>18546 rows × 2 columns</p>\n</div>"
     },
     "execution_count": 17,
     "metadata": {},
     "output_type": "execute_result"
    }
   ],
   "source": [
    "passenger_count_dim = df[['passenger_count']].reset_index(drop=True)\n",
    "passenger_count_dim['passenger_count_id'] = passenger_count_dim.index\n",
    "passenger_count_dim['passenger_count'] = passenger_count_dim['passenger_count'].astype('int')\n",
    "passenger_count_dim[['passenger_count_id', 'passenger_count']]"
   ],
   "metadata": {
    "collapsed": false,
    "ExecuteTime": {
     "start_time": "2023-06-08T11:59:48.947530Z",
     "end_time": "2023-06-08T11:59:49.031313Z"
    }
   }
  },
  {
   "cell_type": "code",
   "execution_count": 18,
   "outputs": [
    {
     "data": {
      "text/plain": "       trip_distance_id  trip_distance\n0                     0           0.67\n1                     1           2.30\n2                     2          17.20\n3                     3           0.05\n4                     4           0.80\n...                 ...            ...\n18541             18541           1.45\n18542             18542           4.11\n18543             18543           0.65\n18544             18544           5.30\n18545             18545           1.51\n\n[18546 rows x 2 columns]",
      "text/html": "<div>\n<style scoped>\n    .dataframe tbody tr th:only-of-type {\n        vertical-align: middle;\n    }\n\n    .dataframe tbody tr th {\n        vertical-align: top;\n    }\n\n    .dataframe thead th {\n        text-align: right;\n    }\n</style>\n<table border=\"1\" class=\"dataframe\">\n  <thead>\n    <tr style=\"text-align: right;\">\n      <th></th>\n      <th>trip_distance_id</th>\n      <th>trip_distance</th>\n    </tr>\n  </thead>\n  <tbody>\n    <tr>\n      <th>0</th>\n      <td>0</td>\n      <td>0.67</td>\n    </tr>\n    <tr>\n      <th>1</th>\n      <td>1</td>\n      <td>2.30</td>\n    </tr>\n    <tr>\n      <th>2</th>\n      <td>2</td>\n      <td>17.20</td>\n    </tr>\n    <tr>\n      <th>3</th>\n      <td>3</td>\n      <td>0.05</td>\n    </tr>\n    <tr>\n      <th>4</th>\n      <td>4</td>\n      <td>0.80</td>\n    </tr>\n    <tr>\n      <th>...</th>\n      <td>...</td>\n      <td>...</td>\n    </tr>\n    <tr>\n      <th>18541</th>\n      <td>18541</td>\n      <td>1.45</td>\n    </tr>\n    <tr>\n      <th>18542</th>\n      <td>18542</td>\n      <td>4.11</td>\n    </tr>\n    <tr>\n      <th>18543</th>\n      <td>18543</td>\n      <td>0.65</td>\n    </tr>\n    <tr>\n      <th>18544</th>\n      <td>18544</td>\n      <td>5.30</td>\n    </tr>\n    <tr>\n      <th>18545</th>\n      <td>18545</td>\n      <td>1.51</td>\n    </tr>\n  </tbody>\n</table>\n<p>18546 rows × 2 columns</p>\n</div>"
     },
     "execution_count": 18,
     "metadata": {},
     "output_type": "execute_result"
    }
   ],
   "source": [
    "trip_distance_dim = df[['trip_distance']].reset_index(drop=True)\n",
    "trip_distance_dim['trip_distance_id'] = trip_distance_dim.index\n",
    "trip_distance_dim[['trip_distance_id', 'trip_distance']]"
   ],
   "metadata": {
    "collapsed": false,
    "ExecuteTime": {
     "start_time": "2023-06-08T11:59:48.961085Z",
     "end_time": "2023-06-08T11:59:49.044281Z"
    }
   }
  },
  {
   "cell_type": "code",
   "execution_count": 19,
   "outputs": [
    {
     "data": {
      "text/plain": "       PU_location_id  PULocation_x  PULocation_y\n0                   0    -73.976495     40.740439\n1                   1    -73.954739     40.765484\n2                   2    -73.786533     40.646985\n3                   3    -73.985937     40.727620\n4                   4    -73.984052     40.736824\n...               ...           ...           ...\n18541           18541    -73.972356     40.756688\n18542           18542    -73.978632     40.783961\n18543           18543    -73.965635     40.768615\n18544           18544    -73.990458     40.740337\n18545           18545    -73.985937     40.727620\n\n[18546 rows x 3 columns]",
      "text/html": "<div>\n<style scoped>\n    .dataframe tbody tr th:only-of-type {\n        vertical-align: middle;\n    }\n\n    .dataframe tbody tr th {\n        vertical-align: top;\n    }\n\n    .dataframe thead th {\n        text-align: right;\n    }\n</style>\n<table border=\"1\" class=\"dataframe\">\n  <thead>\n    <tr style=\"text-align: right;\">\n      <th></th>\n      <th>PU_location_id</th>\n      <th>PULocation_x</th>\n      <th>PULocation_y</th>\n    </tr>\n  </thead>\n  <tbody>\n    <tr>\n      <th>0</th>\n      <td>0</td>\n      <td>-73.976495</td>\n      <td>40.740439</td>\n    </tr>\n    <tr>\n      <th>1</th>\n      <td>1</td>\n      <td>-73.954739</td>\n      <td>40.765484</td>\n    </tr>\n    <tr>\n      <th>2</th>\n      <td>2</td>\n      <td>-73.786533</td>\n      <td>40.646985</td>\n    </tr>\n    <tr>\n      <th>3</th>\n      <td>3</td>\n      <td>-73.985937</td>\n      <td>40.727620</td>\n    </tr>\n    <tr>\n      <th>4</th>\n      <td>4</td>\n      <td>-73.984052</td>\n      <td>40.736824</td>\n    </tr>\n    <tr>\n      <th>...</th>\n      <td>...</td>\n      <td>...</td>\n      <td>...</td>\n    </tr>\n    <tr>\n      <th>18541</th>\n      <td>18541</td>\n      <td>-73.972356</td>\n      <td>40.756688</td>\n    </tr>\n    <tr>\n      <th>18542</th>\n      <td>18542</td>\n      <td>-73.978632</td>\n      <td>40.783961</td>\n    </tr>\n    <tr>\n      <th>18543</th>\n      <td>18543</td>\n      <td>-73.965635</td>\n      <td>40.768615</td>\n    </tr>\n    <tr>\n      <th>18544</th>\n      <td>18544</td>\n      <td>-73.990458</td>\n      <td>40.740337</td>\n    </tr>\n    <tr>\n      <th>18545</th>\n      <td>18545</td>\n      <td>-73.985937</td>\n      <td>40.727620</td>\n    </tr>\n  </tbody>\n</table>\n<p>18546 rows × 3 columns</p>\n</div>"
     },
     "execution_count": 19,
     "metadata": {},
     "output_type": "execute_result"
    }
   ],
   "source": [
    "PU_location_dim = df[['PULocation_x', 'PULocation_y']].reset_index(drop=True)\n",
    "PU_location_dim['PU_location_id'] = PU_location_dim.index\n",
    "PU_location_dim[['PU_location_id', 'PULocation_x', 'PULocation_y']]"
   ],
   "metadata": {
    "collapsed": false,
    "ExecuteTime": {
     "start_time": "2023-06-08T11:59:48.977216Z",
     "end_time": "2023-06-08T11:59:49.098151Z"
    }
   }
  },
  {
   "cell_type": "code",
   "execution_count": 20,
   "outputs": [
    {
     "data": {
      "text/plain": "       DO_location_id  DOLocation_x  DOLocation_y\n0                   0    -73.970443     40.740439\n1                   1    -73.978492     40.765484\n2                   2    -73.984052     40.646985\n3                   3    -73.985937     40.727620\n4                   4    -73.978492     40.736824\n...               ...           ...           ...\n18541           18541    -73.992438     40.756688\n18542           18542    -73.948522     40.783961\n18543           18543    -73.959635     40.768615\n18544           18544    -73.937346     40.740337\n18545           18545    -73.978492     40.727620\n\n[18546 rows x 3 columns]",
      "text/html": "<div>\n<style scoped>\n    .dataframe tbody tr th:only-of-type {\n        vertical-align: middle;\n    }\n\n    .dataframe tbody tr th {\n        vertical-align: top;\n    }\n\n    .dataframe thead th {\n        text-align: right;\n    }\n</style>\n<table border=\"1\" class=\"dataframe\">\n  <thead>\n    <tr style=\"text-align: right;\">\n      <th></th>\n      <th>DO_location_id</th>\n      <th>DOLocation_x</th>\n      <th>DOLocation_y</th>\n    </tr>\n  </thead>\n  <tbody>\n    <tr>\n      <th>0</th>\n      <td>0</td>\n      <td>-73.970443</td>\n      <td>40.740439</td>\n    </tr>\n    <tr>\n      <th>1</th>\n      <td>1</td>\n      <td>-73.978492</td>\n      <td>40.765484</td>\n    </tr>\n    <tr>\n      <th>2</th>\n      <td>2</td>\n      <td>-73.984052</td>\n      <td>40.646985</td>\n    </tr>\n    <tr>\n      <th>3</th>\n      <td>3</td>\n      <td>-73.985937</td>\n      <td>40.727620</td>\n    </tr>\n    <tr>\n      <th>4</th>\n      <td>4</td>\n      <td>-73.978492</td>\n      <td>40.736824</td>\n    </tr>\n    <tr>\n      <th>...</th>\n      <td>...</td>\n      <td>...</td>\n      <td>...</td>\n    </tr>\n    <tr>\n      <th>18541</th>\n      <td>18541</td>\n      <td>-73.992438</td>\n      <td>40.756688</td>\n    </tr>\n    <tr>\n      <th>18542</th>\n      <td>18542</td>\n      <td>-73.948522</td>\n      <td>40.783961</td>\n    </tr>\n    <tr>\n      <th>18543</th>\n      <td>18543</td>\n      <td>-73.959635</td>\n      <td>40.768615</td>\n    </tr>\n    <tr>\n      <th>18544</th>\n      <td>18544</td>\n      <td>-73.937346</td>\n      <td>40.740337</td>\n    </tr>\n    <tr>\n      <th>18545</th>\n      <td>18545</td>\n      <td>-73.978492</td>\n      <td>40.727620</td>\n    </tr>\n  </tbody>\n</table>\n<p>18546 rows × 3 columns</p>\n</div>"
     },
     "execution_count": 20,
     "metadata": {},
     "output_type": "execute_result"
    }
   ],
   "source": [
    "DO_location_dim = df[['DOLocation_x', 'DOLocation_y']].reset_index(drop=True)\n",
    "DO_location_dim['DO_location_id'] = DO_location_dim.index\n",
    "DO_location_dim[['DO_location_id', 'DOLocation_x', 'DOLocation_y']]"
   ],
   "metadata": {
    "collapsed": false,
    "ExecuteTime": {
     "start_time": "2023-06-08T11:59:49.011176Z",
     "end_time": "2023-06-08T11:59:49.098151Z"
    }
   }
  },
  {
   "cell_type": "code",
   "execution_count": 21,
   "outputs": [
    {
     "data": {
      "text/plain": "       payment_type_id  payment_type payment_type_name\n0                    0             1       Credit card\n1                    1             1       Credit card\n2                    2             1       Credit card\n3                    3             2              Cash\n4                    4             2              Cash\n...                ...           ...               ...\n18541            18541             2              Cash\n18542            18542             1       Credit card\n18543            18543             1       Credit card\n18544            18544             3         No charge\n18545            18545             1       Credit card\n\n[18546 rows x 3 columns]",
      "text/html": "<div>\n<style scoped>\n    .dataframe tbody tr th:only-of-type {\n        vertical-align: middle;\n    }\n\n    .dataframe tbody tr th {\n        vertical-align: top;\n    }\n\n    .dataframe thead th {\n        text-align: right;\n    }\n</style>\n<table border=\"1\" class=\"dataframe\">\n  <thead>\n    <tr style=\"text-align: right;\">\n      <th></th>\n      <th>payment_type_id</th>\n      <th>payment_type</th>\n      <th>payment_type_name</th>\n    </tr>\n  </thead>\n  <tbody>\n    <tr>\n      <th>0</th>\n      <td>0</td>\n      <td>1</td>\n      <td>Credit card</td>\n    </tr>\n    <tr>\n      <th>1</th>\n      <td>1</td>\n      <td>1</td>\n      <td>Credit card</td>\n    </tr>\n    <tr>\n      <th>2</th>\n      <td>2</td>\n      <td>1</td>\n      <td>Credit card</td>\n    </tr>\n    <tr>\n      <th>3</th>\n      <td>3</td>\n      <td>2</td>\n      <td>Cash</td>\n    </tr>\n    <tr>\n      <th>4</th>\n      <td>4</td>\n      <td>2</td>\n      <td>Cash</td>\n    </tr>\n    <tr>\n      <th>...</th>\n      <td>...</td>\n      <td>...</td>\n      <td>...</td>\n    </tr>\n    <tr>\n      <th>18541</th>\n      <td>18541</td>\n      <td>2</td>\n      <td>Cash</td>\n    </tr>\n    <tr>\n      <th>18542</th>\n      <td>18542</td>\n      <td>1</td>\n      <td>Credit card</td>\n    </tr>\n    <tr>\n      <th>18543</th>\n      <td>18543</td>\n      <td>1</td>\n      <td>Credit card</td>\n    </tr>\n    <tr>\n      <th>18544</th>\n      <td>18544</td>\n      <td>3</td>\n      <td>No charge</td>\n    </tr>\n    <tr>\n      <th>18545</th>\n      <td>18545</td>\n      <td>1</td>\n      <td>Credit card</td>\n    </tr>\n  </tbody>\n</table>\n<p>18546 rows × 3 columns</p>\n</div>"
     },
     "execution_count": 21,
     "metadata": {},
     "output_type": "execute_result"
    }
   ],
   "source": [
    "payment_type_dim = df[['payment_type']].reset_index(drop=True)\n",
    "payment_type_dim['payment_type_id'] = payment_type_dim.index\n",
    "payment_name_dict = {1: 'Credit card', 2: 'Cash', 3: 'No charge', 4: 'Dispute', 5: 'Unknown', 6: 'Voided trip'}\n",
    "payment_type_dim['payment_type_name'] = payment_type_dim['payment_type'].map(payment_name_dict)\n",
    "payment_type_dim[['payment_type_id', 'payment_type', 'payment_type_name']]"
   ],
   "metadata": {
    "collapsed": false,
    "ExecuteTime": {
     "start_time": "2023-06-08T11:59:49.039990Z",
     "end_time": "2023-06-08T11:59:49.160138Z"
    }
   }
  },
  {
   "cell_type": "code",
   "execution_count": 22,
   "outputs": [
    {
     "data": {
      "text/plain": "       rate_code_id  RatecodeID rate_code_name\n0                 0         1.0  Standard rate\n1                 1         1.0  Standard rate\n2                 2         2.0            JFK\n3                 3         1.0  Standard rate\n4                 4         1.0  Standard rate\n...             ...         ...            ...\n18541         18541         1.0  Standard rate\n18542         18542         1.0  Standard rate\n18543         18543         1.0  Standard rate\n18544         18544         1.0  Standard rate\n18545         18545         1.0  Standard rate\n\n[18546 rows x 3 columns]",
      "text/html": "<div>\n<style scoped>\n    .dataframe tbody tr th:only-of-type {\n        vertical-align: middle;\n    }\n\n    .dataframe tbody tr th {\n        vertical-align: top;\n    }\n\n    .dataframe thead th {\n        text-align: right;\n    }\n</style>\n<table border=\"1\" class=\"dataframe\">\n  <thead>\n    <tr style=\"text-align: right;\">\n      <th></th>\n      <th>rate_code_id</th>\n      <th>RatecodeID</th>\n      <th>rate_code_name</th>\n    </tr>\n  </thead>\n  <tbody>\n    <tr>\n      <th>0</th>\n      <td>0</td>\n      <td>1.0</td>\n      <td>Standard rate</td>\n    </tr>\n    <tr>\n      <th>1</th>\n      <td>1</td>\n      <td>1.0</td>\n      <td>Standard rate</td>\n    </tr>\n    <tr>\n      <th>2</th>\n      <td>2</td>\n      <td>2.0</td>\n      <td>JFK</td>\n    </tr>\n    <tr>\n      <th>3</th>\n      <td>3</td>\n      <td>1.0</td>\n      <td>Standard rate</td>\n    </tr>\n    <tr>\n      <th>4</th>\n      <td>4</td>\n      <td>1.0</td>\n      <td>Standard rate</td>\n    </tr>\n    <tr>\n      <th>...</th>\n      <td>...</td>\n      <td>...</td>\n      <td>...</td>\n    </tr>\n    <tr>\n      <th>18541</th>\n      <td>18541</td>\n      <td>1.0</td>\n      <td>Standard rate</td>\n    </tr>\n    <tr>\n      <th>18542</th>\n      <td>18542</td>\n      <td>1.0</td>\n      <td>Standard rate</td>\n    </tr>\n    <tr>\n      <th>18543</th>\n      <td>18543</td>\n      <td>1.0</td>\n      <td>Standard rate</td>\n    </tr>\n    <tr>\n      <th>18544</th>\n      <td>18544</td>\n      <td>1.0</td>\n      <td>Standard rate</td>\n    </tr>\n    <tr>\n      <th>18545</th>\n      <td>18545</td>\n      <td>1.0</td>\n      <td>Standard rate</td>\n    </tr>\n  </tbody>\n</table>\n<p>18546 rows × 3 columns</p>\n</div>"
     },
     "execution_count": 22,
     "metadata": {},
     "output_type": "execute_result"
    }
   ],
   "source": [
    "rate_code_dim = df[['RatecodeID']].reset_index(drop=True)\n",
    "rate_code_dim['rate_code_id'] = rate_code_dim.index\n",
    "rate_code_name_dict = {1: 'Standard rate', 2: 'JFK', 3: 'Newark', 4: 'Nassau or Westchester', 5: 'Negotiated fare', 6: 'Group ride'}\n",
    "rate_code_dim['rate_code_name'] = rate_code_dim['RatecodeID'].map(rate_code_name_dict)\n",
    "rate_code_dim[['rate_code_id', 'RatecodeID', 'rate_code_name']]"
   ],
   "metadata": {
    "collapsed": false,
    "ExecuteTime": {
     "start_time": "2023-06-08T11:59:49.072510Z",
     "end_time": "2023-06-08T11:59:49.246077Z"
    }
   }
  },
  {
   "cell_type": "code",
   "execution_count": 23,
   "outputs": [],
   "source": [
    "fact_table = df.merge(passenger_count_dim, left_on='trip_id', right_on='passenger_count_id').merge(trip_distance_dim, left_on='trip_id', right_on='trip_distance_id').merge(rate_code_dim, left_on='trip_id', right_on='rate_code_id').merge(PU_location_dim, left_on='trip_id', right_on='PU_location_id').merge(DO_location_dim, left_on='trip_id', right_on='DO_location_id').merge(datetime_dim, left_on='trip_id', right_on='datetime_id').merge(payment_type_dim, left_on='trip_id', right_on='payment_type_id')[['trip_id','VendorID', 'datetime_id', 'passenger_count_id',\n",
    "               'trip_distance_id', 'rate_code_id', 'store_and_fwd_flag', 'PU_location_id', 'DO_location_id',\n",
    "               'payment_type_id', 'fare_amount', 'extra', 'mta_tax', 'tip_amount', 'tolls_amount',\n",
    "               'improvement_surcharge', 'total_amount']]"
   ],
   "metadata": {
    "collapsed": false,
    "ExecuteTime": {
     "start_time": "2023-06-08T11:59:49.104191Z",
     "end_time": "2023-06-08T11:59:49.316431Z"
    }
   }
  },
  {
   "cell_type": "code",
   "execution_count": 24,
   "outputs": [
    {
     "data": {
      "text/plain": "       trip_id  VendorID  datetime_id  passenger_count_id  trip_distance_id  \\\n0            0         2            0                   0                 0   \n1            1         1            1                   1                 1   \n2            2         1            2                   2                 2   \n3            3         2            3                   3                 3   \n4            4         1            4                   4                 4   \n...        ...       ...          ...                 ...               ...   \n18541    18541         2        18541               18541             18541   \n18542    18542         2        18542               18542             18542   \n18543    18543         2        18543               18543             18543   \n18544    18544         1        18544               18544             18544   \n18545    18545         2        18545               18545             18545   \n\n       rate_code_id store_and_fwd_flag  PU_location_id  DO_location_id  \\\n0                 0                  N               0               0   \n1                 1                  N               1               1   \n2                 2                  N               2               2   \n3                 3                  N               3               3   \n4                 4                  N               4               4   \n...             ...                ...             ...             ...   \n18541         18541                  N           18541           18541   \n18542         18542                  N           18542           18542   \n18543         18543                  N           18543           18543   \n18544         18544                  N           18544           18544   \n18545         18545                  N           18545           18545   \n\n       payment_type_id  fare_amount  extra  mta_tax  tip_amount  tolls_amount  \\\n0                    0          5.0   1.00      0.5        1.86          0.00   \n1                    1          9.5   2.50      0.5        3.20          0.00   \n2                    2         52.0   3.75      0.5       12.62          6.55   \n3                    3          2.5   0.00      0.5        0.00          0.00   \n4                    4          6.5   2.50      0.5        0.00          0.00   \n...                ...          ...    ...      ...         ...           ...   \n18541            18541         14.5   0.50      0.5        0.00          0.00   \n18542            18542         22.6   0.00      0.5        6.65          0.00   \n18543            18543          7.2   0.00      0.5        2.00          0.00   \n18544            18544         23.3   3.50      0.5        0.00          0.00   \n18545            18545          9.5   0.00      0.5        2.56          0.00   \n\n       improvement_surcharge  total_amount  \n0                        0.3         11.16  \n1                        0.3         16.00  \n2                        0.3         75.72  \n3                        0.3          5.80  \n4                        0.3          9.80  \n...                      ...           ...  \n18541                    0.3         18.30  \n18542                    1.0         33.25  \n18543                    1.0         13.20  \n18544                    1.0         28.30  \n18545                    0.3         15.36  \n\n[18546 rows x 17 columns]",
      "text/html": "<div>\n<style scoped>\n    .dataframe tbody tr th:only-of-type {\n        vertical-align: middle;\n    }\n\n    .dataframe tbody tr th {\n        vertical-align: top;\n    }\n\n    .dataframe thead th {\n        text-align: right;\n    }\n</style>\n<table border=\"1\" class=\"dataframe\">\n  <thead>\n    <tr style=\"text-align: right;\">\n      <th></th>\n      <th>trip_id</th>\n      <th>VendorID</th>\n      <th>datetime_id</th>\n      <th>passenger_count_id</th>\n      <th>trip_distance_id</th>\n      <th>rate_code_id</th>\n      <th>store_and_fwd_flag</th>\n      <th>PU_location_id</th>\n      <th>DO_location_id</th>\n      <th>payment_type_id</th>\n      <th>fare_amount</th>\n      <th>extra</th>\n      <th>mta_tax</th>\n      <th>tip_amount</th>\n      <th>tolls_amount</th>\n      <th>improvement_surcharge</th>\n      <th>total_amount</th>\n    </tr>\n  </thead>\n  <tbody>\n    <tr>\n      <th>0</th>\n      <td>0</td>\n      <td>2</td>\n      <td>0</td>\n      <td>0</td>\n      <td>0</td>\n      <td>0</td>\n      <td>N</td>\n      <td>0</td>\n      <td>0</td>\n      <td>0</td>\n      <td>5.0</td>\n      <td>1.00</td>\n      <td>0.5</td>\n      <td>1.86</td>\n      <td>0.00</td>\n      <td>0.3</td>\n      <td>11.16</td>\n    </tr>\n    <tr>\n      <th>1</th>\n      <td>1</td>\n      <td>1</td>\n      <td>1</td>\n      <td>1</td>\n      <td>1</td>\n      <td>1</td>\n      <td>N</td>\n      <td>1</td>\n      <td>1</td>\n      <td>1</td>\n      <td>9.5</td>\n      <td>2.50</td>\n      <td>0.5</td>\n      <td>3.20</td>\n      <td>0.00</td>\n      <td>0.3</td>\n      <td>16.00</td>\n    </tr>\n    <tr>\n      <th>2</th>\n      <td>2</td>\n      <td>1</td>\n      <td>2</td>\n      <td>2</td>\n      <td>2</td>\n      <td>2</td>\n      <td>N</td>\n      <td>2</td>\n      <td>2</td>\n      <td>2</td>\n      <td>52.0</td>\n      <td>3.75</td>\n      <td>0.5</td>\n      <td>12.62</td>\n      <td>6.55</td>\n      <td>0.3</td>\n      <td>75.72</td>\n    </tr>\n    <tr>\n      <th>3</th>\n      <td>3</td>\n      <td>2</td>\n      <td>3</td>\n      <td>3</td>\n      <td>3</td>\n      <td>3</td>\n      <td>N</td>\n      <td>3</td>\n      <td>3</td>\n      <td>3</td>\n      <td>2.5</td>\n      <td>0.00</td>\n      <td>0.5</td>\n      <td>0.00</td>\n      <td>0.00</td>\n      <td>0.3</td>\n      <td>5.80</td>\n    </tr>\n    <tr>\n      <th>4</th>\n      <td>4</td>\n      <td>1</td>\n      <td>4</td>\n      <td>4</td>\n      <td>4</td>\n      <td>4</td>\n      <td>N</td>\n      <td>4</td>\n      <td>4</td>\n      <td>4</td>\n      <td>6.5</td>\n      <td>2.50</td>\n      <td>0.5</td>\n      <td>0.00</td>\n      <td>0.00</td>\n      <td>0.3</td>\n      <td>9.80</td>\n    </tr>\n    <tr>\n      <th>...</th>\n      <td>...</td>\n      <td>...</td>\n      <td>...</td>\n      <td>...</td>\n      <td>...</td>\n      <td>...</td>\n      <td>...</td>\n      <td>...</td>\n      <td>...</td>\n      <td>...</td>\n      <td>...</td>\n      <td>...</td>\n      <td>...</td>\n      <td>...</td>\n      <td>...</td>\n      <td>...</td>\n      <td>...</td>\n    </tr>\n    <tr>\n      <th>18541</th>\n      <td>18541</td>\n      <td>2</td>\n      <td>18541</td>\n      <td>18541</td>\n      <td>18541</td>\n      <td>18541</td>\n      <td>N</td>\n      <td>18541</td>\n      <td>18541</td>\n      <td>18541</td>\n      <td>14.5</td>\n      <td>0.50</td>\n      <td>0.5</td>\n      <td>0.00</td>\n      <td>0.00</td>\n      <td>0.3</td>\n      <td>18.30</td>\n    </tr>\n    <tr>\n      <th>18542</th>\n      <td>18542</td>\n      <td>2</td>\n      <td>18542</td>\n      <td>18542</td>\n      <td>18542</td>\n      <td>18542</td>\n      <td>N</td>\n      <td>18542</td>\n      <td>18542</td>\n      <td>18542</td>\n      <td>22.6</td>\n      <td>0.00</td>\n      <td>0.5</td>\n      <td>6.65</td>\n      <td>0.00</td>\n      <td>1.0</td>\n      <td>33.25</td>\n    </tr>\n    <tr>\n      <th>18543</th>\n      <td>18543</td>\n      <td>2</td>\n      <td>18543</td>\n      <td>18543</td>\n      <td>18543</td>\n      <td>18543</td>\n      <td>N</td>\n      <td>18543</td>\n      <td>18543</td>\n      <td>18543</td>\n      <td>7.2</td>\n      <td>0.00</td>\n      <td>0.5</td>\n      <td>2.00</td>\n      <td>0.00</td>\n      <td>1.0</td>\n      <td>13.20</td>\n    </tr>\n    <tr>\n      <th>18544</th>\n      <td>18544</td>\n      <td>1</td>\n      <td>18544</td>\n      <td>18544</td>\n      <td>18544</td>\n      <td>18544</td>\n      <td>N</td>\n      <td>18544</td>\n      <td>18544</td>\n      <td>18544</td>\n      <td>23.3</td>\n      <td>3.50</td>\n      <td>0.5</td>\n      <td>0.00</td>\n      <td>0.00</td>\n      <td>1.0</td>\n      <td>28.30</td>\n    </tr>\n    <tr>\n      <th>18545</th>\n      <td>18545</td>\n      <td>2</td>\n      <td>18545</td>\n      <td>18545</td>\n      <td>18545</td>\n      <td>18545</td>\n      <td>N</td>\n      <td>18545</td>\n      <td>18545</td>\n      <td>18545</td>\n      <td>9.5</td>\n      <td>0.00</td>\n      <td>0.5</td>\n      <td>2.56</td>\n      <td>0.00</td>\n      <td>0.3</td>\n      <td>15.36</td>\n    </tr>\n  </tbody>\n</table>\n<p>18546 rows × 17 columns</p>\n</div>"
     },
     "execution_count": 24,
     "metadata": {},
     "output_type": "execute_result"
    }
   ],
   "source": [
    "fact_table"
   ],
   "metadata": {
    "collapsed": false,
    "ExecuteTime": {
     "start_time": "2023-06-08T11:59:49.147090Z",
     "end_time": "2023-06-08T11:59:49.317431Z"
    }
   }
  }
 ],
 "metadata": {
  "kernelspec": {
   "display_name": "Python 3",
   "language": "python",
   "name": "python3"
  },
  "language_info": {
   "codemirror_mode": {
    "name": "ipython",
    "version": 2
   },
   "file_extension": ".py",
   "mimetype": "text/x-python",
   "name": "python",
   "nbconvert_exporter": "python",
   "pygments_lexer": "ipython2",
   "version": "2.7.6"
  }
 },
 "nbformat": 4,
 "nbformat_minor": 0
}
