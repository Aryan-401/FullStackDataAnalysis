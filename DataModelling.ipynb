{
 "cells": [
  {
   "cell_type": "code",
   "execution_count": 1,
   "metadata": {
    "collapsed": true,
    "ExecuteTime": {
     "start_time": "2023-06-07T23:54:05.188922Z",
     "end_time": "2023-06-07T23:54:05.483201Z"
    }
   },
   "outputs": [],
   "source": [
    "import pandas as pd"
   ]
  },
  {
   "cell_type": "code",
   "execution_count": 2,
   "outputs": [
    {
     "data": {
      "text/plain": "   VendorID tpep_pickup_datetime tpep_dropoff_datetime  passenger_count  \\\n0         1  2022-01-01 00:35:40   2022-01-01 00:53:29              2.0   \n1         1  2022-01-01 00:33:43   2022-01-01 00:42:07              1.0   \n2         2  2022-01-01 00:53:21   2022-01-01 01:02:19              1.0   \n3         2  2022-01-01 00:25:21   2022-01-01 00:35:23              1.0   \n4         2  2022-01-01 00:36:48   2022-01-01 01:14:20              1.0   \n\n   trip_distance  RatecodeID store_and_fwd_flag  PULocationID  DOLocationID  \\\n0           3.80         1.0                  N           142           236   \n1           2.10         1.0                  N           236            42   \n2           0.97         1.0                  N           166           166   \n3           1.09         1.0                  N           114            68   \n4           4.30         1.0                  N            68           163   \n\n   payment_type  fare_amount  extra  mta_tax  tip_amount  tolls_amount  \\\n0             1         14.5    3.0      0.5        3.65           0.0   \n1             1          8.0    0.5      0.5        4.00           0.0   \n2             1          7.5    0.5      0.5        1.76           0.0   \n3             2          8.0    0.5      0.5        0.00           0.0   \n4             1         23.5    0.5      0.5        3.00           0.0   \n\n   improvement_surcharge  total_amount  congestion_surcharge  airport_fee  \n0                    0.3         21.95                   2.5          0.0  \n1                    0.3         13.30                   0.0          0.0  \n2                    0.3         10.56                   0.0          0.0  \n3                    0.3         11.80                   2.5          0.0  \n4                    0.3         30.30                   2.5          0.0  ",
      "text/html": "<div>\n<style scoped>\n    .dataframe tbody tr th:only-of-type {\n        vertical-align: middle;\n    }\n\n    .dataframe tbody tr th {\n        vertical-align: top;\n    }\n\n    .dataframe thead th {\n        text-align: right;\n    }\n</style>\n<table border=\"1\" class=\"dataframe\">\n  <thead>\n    <tr style=\"text-align: right;\">\n      <th></th>\n      <th>VendorID</th>\n      <th>tpep_pickup_datetime</th>\n      <th>tpep_dropoff_datetime</th>\n      <th>passenger_count</th>\n      <th>trip_distance</th>\n      <th>RatecodeID</th>\n      <th>store_and_fwd_flag</th>\n      <th>PULocationID</th>\n      <th>DOLocationID</th>\n      <th>payment_type</th>\n      <th>fare_amount</th>\n      <th>extra</th>\n      <th>mta_tax</th>\n      <th>tip_amount</th>\n      <th>tolls_amount</th>\n      <th>improvement_surcharge</th>\n      <th>total_amount</th>\n      <th>congestion_surcharge</th>\n      <th>airport_fee</th>\n    </tr>\n  </thead>\n  <tbody>\n    <tr>\n      <th>0</th>\n      <td>1</td>\n      <td>2022-01-01 00:35:40</td>\n      <td>2022-01-01 00:53:29</td>\n      <td>2.0</td>\n      <td>3.80</td>\n      <td>1.0</td>\n      <td>N</td>\n      <td>142</td>\n      <td>236</td>\n      <td>1</td>\n      <td>14.5</td>\n      <td>3.0</td>\n      <td>0.5</td>\n      <td>3.65</td>\n      <td>0.0</td>\n      <td>0.3</td>\n      <td>21.95</td>\n      <td>2.5</td>\n      <td>0.0</td>\n    </tr>\n    <tr>\n      <th>1</th>\n      <td>1</td>\n      <td>2022-01-01 00:33:43</td>\n      <td>2022-01-01 00:42:07</td>\n      <td>1.0</td>\n      <td>2.10</td>\n      <td>1.0</td>\n      <td>N</td>\n      <td>236</td>\n      <td>42</td>\n      <td>1</td>\n      <td>8.0</td>\n      <td>0.5</td>\n      <td>0.5</td>\n      <td>4.00</td>\n      <td>0.0</td>\n      <td>0.3</td>\n      <td>13.30</td>\n      <td>0.0</td>\n      <td>0.0</td>\n    </tr>\n    <tr>\n      <th>2</th>\n      <td>2</td>\n      <td>2022-01-01 00:53:21</td>\n      <td>2022-01-01 01:02:19</td>\n      <td>1.0</td>\n      <td>0.97</td>\n      <td>1.0</td>\n      <td>N</td>\n      <td>166</td>\n      <td>166</td>\n      <td>1</td>\n      <td>7.5</td>\n      <td>0.5</td>\n      <td>0.5</td>\n      <td>1.76</td>\n      <td>0.0</td>\n      <td>0.3</td>\n      <td>10.56</td>\n      <td>0.0</td>\n      <td>0.0</td>\n    </tr>\n    <tr>\n      <th>3</th>\n      <td>2</td>\n      <td>2022-01-01 00:25:21</td>\n      <td>2022-01-01 00:35:23</td>\n      <td>1.0</td>\n      <td>1.09</td>\n      <td>1.0</td>\n      <td>N</td>\n      <td>114</td>\n      <td>68</td>\n      <td>2</td>\n      <td>8.0</td>\n      <td>0.5</td>\n      <td>0.5</td>\n      <td>0.00</td>\n      <td>0.0</td>\n      <td>0.3</td>\n      <td>11.80</td>\n      <td>2.5</td>\n      <td>0.0</td>\n    </tr>\n    <tr>\n      <th>4</th>\n      <td>2</td>\n      <td>2022-01-01 00:36:48</td>\n      <td>2022-01-01 01:14:20</td>\n      <td>1.0</td>\n      <td>4.30</td>\n      <td>1.0</td>\n      <td>N</td>\n      <td>68</td>\n      <td>163</td>\n      <td>1</td>\n      <td>23.5</td>\n      <td>0.5</td>\n      <td>0.5</td>\n      <td>3.00</td>\n      <td>0.0</td>\n      <td>0.3</td>\n      <td>30.30</td>\n      <td>2.5</td>\n      <td>0.0</td>\n    </tr>\n  </tbody>\n</table>\n</div>"
     },
     "execution_count": 2,
     "metadata": {},
     "output_type": "execute_result"
    }
   ],
   "source": [
    "df = pd.read_parquet('data/yellow_tripdata_2022-01.parquet').head(10)  # sampling data\n",
    "df_taxi_zone = pd.read_csv('data/taxi_zones.csv')\n",
    "df.head()"
   ],
   "metadata": {
    "collapsed": false,
    "ExecuteTime": {
     "start_time": "2023-06-07T23:54:05.484202Z",
     "end_time": "2023-06-07T23:54:05.782258Z"
    }
   }
  },
  {
   "cell_type": "code",
   "execution_count": 3,
   "outputs": [],
   "source": [
    "def get_coordinates(id, column='x'):\n",
    "    try:\n",
    "        return df_taxi_zone[df_taxi_zone['location_id'] == id][[f'coordinate_{column}']].values[0][0]\n",
    "    except IndexError:\n",
    "        return 0"
   ],
   "metadata": {
    "collapsed": false,
    "ExecuteTime": {
     "start_time": "2023-06-07T23:54:05.784256Z",
     "end_time": "2023-06-07T23:54:05.803353Z"
    }
   }
  },
  {
   "cell_type": "code",
   "execution_count": 4,
   "outputs": [
    {
     "data": {
      "text/plain": "(-73.84742223236718, 0)"
     },
     "execution_count": 4,
     "metadata": {},
     "output_type": "execute_result"
    }
   ],
   "source": [
    "get_coordinates(3), get_coordinates(2024)  #Testing Function"
   ],
   "metadata": {
    "collapsed": false,
    "ExecuteTime": {
     "start_time": "2023-06-07T23:54:05.806342Z",
     "end_time": "2023-06-07T23:54:05.841230Z"
    }
   }
  },
  {
   "cell_type": "code",
   "execution_count": 5,
   "outputs": [
    {
     "data": {
      "text/plain": "     location_id                       zone  coordinate_x  coordinate_y\n0              1             Newark Airport    -74.174000     40.691831\n1              2                Jamaica Bay    -73.831299     40.616745\n2              3    Allerton/Pelham Gardens    -73.847422     40.864474\n3              4              Alphabet City    -73.976968     40.723752\n4              5              Arden Heights    -74.188484     40.552659\n..           ...                        ...           ...           ...\n258          256  Williamsburg (South Side)    -73.959905     40.710880\n259          259         Woodlawn/Wakefield    -73.852215     40.897932\n260          260                   Woodside    -73.906306     40.744235\n261          261         World Trade Center    -74.013023     40.709139\n262          262             Yorkville East    -73.946510     40.775932\n\n[263 rows x 4 columns]",
      "text/html": "<div>\n<style scoped>\n    .dataframe tbody tr th:only-of-type {\n        vertical-align: middle;\n    }\n\n    .dataframe tbody tr th {\n        vertical-align: top;\n    }\n\n    .dataframe thead th {\n        text-align: right;\n    }\n</style>\n<table border=\"1\" class=\"dataframe\">\n  <thead>\n    <tr style=\"text-align: right;\">\n      <th></th>\n      <th>location_id</th>\n      <th>zone</th>\n      <th>coordinate_x</th>\n      <th>coordinate_y</th>\n    </tr>\n  </thead>\n  <tbody>\n    <tr>\n      <th>0</th>\n      <td>1</td>\n      <td>Newark Airport</td>\n      <td>-74.174000</td>\n      <td>40.691831</td>\n    </tr>\n    <tr>\n      <th>1</th>\n      <td>2</td>\n      <td>Jamaica Bay</td>\n      <td>-73.831299</td>\n      <td>40.616745</td>\n    </tr>\n    <tr>\n      <th>2</th>\n      <td>3</td>\n      <td>Allerton/Pelham Gardens</td>\n      <td>-73.847422</td>\n      <td>40.864474</td>\n    </tr>\n    <tr>\n      <th>3</th>\n      <td>4</td>\n      <td>Alphabet City</td>\n      <td>-73.976968</td>\n      <td>40.723752</td>\n    </tr>\n    <tr>\n      <th>4</th>\n      <td>5</td>\n      <td>Arden Heights</td>\n      <td>-74.188484</td>\n      <td>40.552659</td>\n    </tr>\n    <tr>\n      <th>...</th>\n      <td>...</td>\n      <td>...</td>\n      <td>...</td>\n      <td>...</td>\n    </tr>\n    <tr>\n      <th>258</th>\n      <td>256</td>\n      <td>Williamsburg (South Side)</td>\n      <td>-73.959905</td>\n      <td>40.710880</td>\n    </tr>\n    <tr>\n      <th>259</th>\n      <td>259</td>\n      <td>Woodlawn/Wakefield</td>\n      <td>-73.852215</td>\n      <td>40.897932</td>\n    </tr>\n    <tr>\n      <th>260</th>\n      <td>260</td>\n      <td>Woodside</td>\n      <td>-73.906306</td>\n      <td>40.744235</td>\n    </tr>\n    <tr>\n      <th>261</th>\n      <td>261</td>\n      <td>World Trade Center</td>\n      <td>-74.013023</td>\n      <td>40.709139</td>\n    </tr>\n    <tr>\n      <th>262</th>\n      <td>262</td>\n      <td>Yorkville East</td>\n      <td>-73.946510</td>\n      <td>40.775932</td>\n    </tr>\n  </tbody>\n</table>\n<p>263 rows × 4 columns</p>\n</div>"
     },
     "execution_count": 5,
     "metadata": {},
     "output_type": "execute_result"
    }
   ],
   "source": [
    "df_taxi_zone"
   ],
   "metadata": {
    "collapsed": false,
    "ExecuteTime": {
     "start_time": "2023-06-07T23:54:05.828338Z",
     "end_time": "2023-06-07T23:54:05.874201Z"
    }
   }
  },
  {
   "cell_type": "code",
   "execution_count": 6,
   "outputs": [],
   "source": [
    "df[\"PULocation_x\"]= df.apply(lambda row: get_coordinates(row[\"PULocationID\"]), axis=1)\n",
    "df[\"PULocation_y\"]= df.apply(lambda row: get_coordinates(row[\"PULocationID\"], 'y'), axis=1)\n",
    "df[\"DOLocation_x\"]= df.apply(lambda row: get_coordinates(row[\"DOLocationID\"]), axis=1)\n",
    "df[\"DOLocation_y\"]= df.apply(lambda row: get_coordinates(row[\"PULocationID\"],'y'), axis=1)\n",
    "\n",
    "df.drop(['PULocationID', 'DOLocationID'], axis=1, inplace=True)"
   ],
   "metadata": {
    "collapsed": false,
    "ExecuteTime": {
     "start_time": "2023-06-07T23:54:05.850207Z",
     "end_time": "2023-06-07T23:54:05.937565Z"
    }
   }
  },
  {
   "cell_type": "code",
   "execution_count": 7,
   "outputs": [
    {
     "data": {
      "text/plain": "   VendorID tpep_pickup_datetime tpep_dropoff_datetime  passenger_count  \\\n0         1  2022-01-01 00:35:40   2022-01-01 00:53:29              2.0   \n1         1  2022-01-01 00:33:43   2022-01-01 00:42:07              1.0   \n2         2  2022-01-01 00:53:21   2022-01-01 01:02:19              1.0   \n3         2  2022-01-01 00:25:21   2022-01-01 00:35:23              1.0   \n4         2  2022-01-01 00:36:48   2022-01-01 01:14:20              1.0   \n5         1  2022-01-01 00:40:15   2022-01-01 01:09:48              1.0   \n6         2  2022-01-01 00:20:50   2022-01-01 00:34:58              1.0   \n7         2  2022-01-01 00:13:04   2022-01-01 00:22:45              1.0   \n8         2  2022-01-01 00:30:02   2022-01-01 00:44:49              1.0   \n9         2  2022-01-01 00:48:52   2022-01-01 00:53:28              1.0   \n\n   trip_distance  RatecodeID store_and_fwd_flag  payment_type  fare_amount  \\\n0           3.80         1.0                  N             1         14.5   \n1           2.10         1.0                  N             1          8.0   \n2           0.97         1.0                  N             1          7.5   \n3           1.09         1.0                  N             2          8.0   \n4           4.30         1.0                  N             1         23.5   \n5          10.30         1.0                  N             1         33.0   \n6           5.07         1.0                  N             1         17.0   \n7           2.02         1.0                  N             2          9.0   \n8           2.71         1.0                  N             1         12.0   \n9           0.78         1.0                  N             2          5.0   \n\n   extra  ...  tip_amount  tolls_amount  improvement_surcharge  total_amount  \\\n0    3.0  ...        3.65          0.00                    0.3         21.95   \n1    0.5  ...        4.00          0.00                    0.3         13.30   \n2    0.5  ...        1.76          0.00                    0.3         10.56   \n3    0.5  ...        0.00          0.00                    0.3         11.80   \n4    0.5  ...        3.00          0.00                    0.3         30.30   \n5    3.0  ...       13.00          6.55                    0.3         56.35   \n6    0.5  ...        5.20          0.00                    0.3         26.00   \n7    0.5  ...        0.00          0.00                    0.3         12.80   \n8    0.5  ...        2.25          0.00                    0.3         18.05   \n9    0.5  ...        0.00          0.00                    0.3          8.80   \n\n   congestion_surcharge  airport_fee  PULocation_x  PULocation_y  \\\n0                   2.5          0.0    -73.981532     40.773633   \n1                   0.0          0.0    -73.957012     40.780436   \n2                   0.0          0.0    -73.961764     40.809457   \n3                   2.5          0.0    -73.997380     40.728340   \n4                   2.5          0.0    -73.999917     40.748428   \n5                   2.5          0.0    -73.873629     40.774376   \n6                   2.5          0.0    -73.970443     40.749914   \n7                   2.5          0.0    -73.973049     40.791705   \n8                   2.5          0.0    -73.961764     40.809457   \n9                   2.5          0.0    -73.957012     40.780436   \n\n   DOLocation_x  DOLocation_y  \n0    -73.957012     40.773633  \n1    -73.940772     40.780436  \n2    -73.961764     40.809457  \n3    -73.999917     40.728340  \n4    -73.977569     40.748428  \n5    -73.977698     40.774376  \n6    -74.007496     40.749914  \n7    -73.953782     40.791705  \n8    -73.957012     40.809457  \n9    -73.959635     40.780436  \n\n[10 rows x 21 columns]",
      "text/html": "<div>\n<style scoped>\n    .dataframe tbody tr th:only-of-type {\n        vertical-align: middle;\n    }\n\n    .dataframe tbody tr th {\n        vertical-align: top;\n    }\n\n    .dataframe thead th {\n        text-align: right;\n    }\n</style>\n<table border=\"1\" class=\"dataframe\">\n  <thead>\n    <tr style=\"text-align: right;\">\n      <th></th>\n      <th>VendorID</th>\n      <th>tpep_pickup_datetime</th>\n      <th>tpep_dropoff_datetime</th>\n      <th>passenger_count</th>\n      <th>trip_distance</th>\n      <th>RatecodeID</th>\n      <th>store_and_fwd_flag</th>\n      <th>payment_type</th>\n      <th>fare_amount</th>\n      <th>extra</th>\n      <th>...</th>\n      <th>tip_amount</th>\n      <th>tolls_amount</th>\n      <th>improvement_surcharge</th>\n      <th>total_amount</th>\n      <th>congestion_surcharge</th>\n      <th>airport_fee</th>\n      <th>PULocation_x</th>\n      <th>PULocation_y</th>\n      <th>DOLocation_x</th>\n      <th>DOLocation_y</th>\n    </tr>\n  </thead>\n  <tbody>\n    <tr>\n      <th>0</th>\n      <td>1</td>\n      <td>2022-01-01 00:35:40</td>\n      <td>2022-01-01 00:53:29</td>\n      <td>2.0</td>\n      <td>3.80</td>\n      <td>1.0</td>\n      <td>N</td>\n      <td>1</td>\n      <td>14.5</td>\n      <td>3.0</td>\n      <td>...</td>\n      <td>3.65</td>\n      <td>0.00</td>\n      <td>0.3</td>\n      <td>21.95</td>\n      <td>2.5</td>\n      <td>0.0</td>\n      <td>-73.981532</td>\n      <td>40.773633</td>\n      <td>-73.957012</td>\n      <td>40.773633</td>\n    </tr>\n    <tr>\n      <th>1</th>\n      <td>1</td>\n      <td>2022-01-01 00:33:43</td>\n      <td>2022-01-01 00:42:07</td>\n      <td>1.0</td>\n      <td>2.10</td>\n      <td>1.0</td>\n      <td>N</td>\n      <td>1</td>\n      <td>8.0</td>\n      <td>0.5</td>\n      <td>...</td>\n      <td>4.00</td>\n      <td>0.00</td>\n      <td>0.3</td>\n      <td>13.30</td>\n      <td>0.0</td>\n      <td>0.0</td>\n      <td>-73.957012</td>\n      <td>40.780436</td>\n      <td>-73.940772</td>\n      <td>40.780436</td>\n    </tr>\n    <tr>\n      <th>2</th>\n      <td>2</td>\n      <td>2022-01-01 00:53:21</td>\n      <td>2022-01-01 01:02:19</td>\n      <td>1.0</td>\n      <td>0.97</td>\n      <td>1.0</td>\n      <td>N</td>\n      <td>1</td>\n      <td>7.5</td>\n      <td>0.5</td>\n      <td>...</td>\n      <td>1.76</td>\n      <td>0.00</td>\n      <td>0.3</td>\n      <td>10.56</td>\n      <td>0.0</td>\n      <td>0.0</td>\n      <td>-73.961764</td>\n      <td>40.809457</td>\n      <td>-73.961764</td>\n      <td>40.809457</td>\n    </tr>\n    <tr>\n      <th>3</th>\n      <td>2</td>\n      <td>2022-01-01 00:25:21</td>\n      <td>2022-01-01 00:35:23</td>\n      <td>1.0</td>\n      <td>1.09</td>\n      <td>1.0</td>\n      <td>N</td>\n      <td>2</td>\n      <td>8.0</td>\n      <td>0.5</td>\n      <td>...</td>\n      <td>0.00</td>\n      <td>0.00</td>\n      <td>0.3</td>\n      <td>11.80</td>\n      <td>2.5</td>\n      <td>0.0</td>\n      <td>-73.997380</td>\n      <td>40.728340</td>\n      <td>-73.999917</td>\n      <td>40.728340</td>\n    </tr>\n    <tr>\n      <th>4</th>\n      <td>2</td>\n      <td>2022-01-01 00:36:48</td>\n      <td>2022-01-01 01:14:20</td>\n      <td>1.0</td>\n      <td>4.30</td>\n      <td>1.0</td>\n      <td>N</td>\n      <td>1</td>\n      <td>23.5</td>\n      <td>0.5</td>\n      <td>...</td>\n      <td>3.00</td>\n      <td>0.00</td>\n      <td>0.3</td>\n      <td>30.30</td>\n      <td>2.5</td>\n      <td>0.0</td>\n      <td>-73.999917</td>\n      <td>40.748428</td>\n      <td>-73.977569</td>\n      <td>40.748428</td>\n    </tr>\n    <tr>\n      <th>5</th>\n      <td>1</td>\n      <td>2022-01-01 00:40:15</td>\n      <td>2022-01-01 01:09:48</td>\n      <td>1.0</td>\n      <td>10.30</td>\n      <td>1.0</td>\n      <td>N</td>\n      <td>1</td>\n      <td>33.0</td>\n      <td>3.0</td>\n      <td>...</td>\n      <td>13.00</td>\n      <td>6.55</td>\n      <td>0.3</td>\n      <td>56.35</td>\n      <td>2.5</td>\n      <td>0.0</td>\n      <td>-73.873629</td>\n      <td>40.774376</td>\n      <td>-73.977698</td>\n      <td>40.774376</td>\n    </tr>\n    <tr>\n      <th>6</th>\n      <td>2</td>\n      <td>2022-01-01 00:20:50</td>\n      <td>2022-01-01 00:34:58</td>\n      <td>1.0</td>\n      <td>5.07</td>\n      <td>1.0</td>\n      <td>N</td>\n      <td>1</td>\n      <td>17.0</td>\n      <td>0.5</td>\n      <td>...</td>\n      <td>5.20</td>\n      <td>0.00</td>\n      <td>0.3</td>\n      <td>26.00</td>\n      <td>2.5</td>\n      <td>0.0</td>\n      <td>-73.970443</td>\n      <td>40.749914</td>\n      <td>-74.007496</td>\n      <td>40.749914</td>\n    </tr>\n    <tr>\n      <th>7</th>\n      <td>2</td>\n      <td>2022-01-01 00:13:04</td>\n      <td>2022-01-01 00:22:45</td>\n      <td>1.0</td>\n      <td>2.02</td>\n      <td>1.0</td>\n      <td>N</td>\n      <td>2</td>\n      <td>9.0</td>\n      <td>0.5</td>\n      <td>...</td>\n      <td>0.00</td>\n      <td>0.00</td>\n      <td>0.3</td>\n      <td>12.80</td>\n      <td>2.5</td>\n      <td>0.0</td>\n      <td>-73.973049</td>\n      <td>40.791705</td>\n      <td>-73.953782</td>\n      <td>40.791705</td>\n    </tr>\n    <tr>\n      <th>8</th>\n      <td>2</td>\n      <td>2022-01-01 00:30:02</td>\n      <td>2022-01-01 00:44:49</td>\n      <td>1.0</td>\n      <td>2.71</td>\n      <td>1.0</td>\n      <td>N</td>\n      <td>1</td>\n      <td>12.0</td>\n      <td>0.5</td>\n      <td>...</td>\n      <td>2.25</td>\n      <td>0.00</td>\n      <td>0.3</td>\n      <td>18.05</td>\n      <td>2.5</td>\n      <td>0.0</td>\n      <td>-73.961764</td>\n      <td>40.809457</td>\n      <td>-73.957012</td>\n      <td>40.809457</td>\n    </tr>\n    <tr>\n      <th>9</th>\n      <td>2</td>\n      <td>2022-01-01 00:48:52</td>\n      <td>2022-01-01 00:53:28</td>\n      <td>1.0</td>\n      <td>0.78</td>\n      <td>1.0</td>\n      <td>N</td>\n      <td>2</td>\n      <td>5.0</td>\n      <td>0.5</td>\n      <td>...</td>\n      <td>0.00</td>\n      <td>0.00</td>\n      <td>0.3</td>\n      <td>8.80</td>\n      <td>2.5</td>\n      <td>0.0</td>\n      <td>-73.957012</td>\n      <td>40.780436</td>\n      <td>-73.959635</td>\n      <td>40.780436</td>\n    </tr>\n  </tbody>\n</table>\n<p>10 rows × 21 columns</p>\n</div>"
     },
     "execution_count": 7,
     "metadata": {},
     "output_type": "execute_result"
    }
   ],
   "source": [
    "df"
   ],
   "metadata": {
    "collapsed": false,
    "ExecuteTime": {
     "start_time": "2023-06-07T23:54:05.894566Z",
     "end_time": "2023-06-07T23:54:05.968685Z"
    }
   }
  },
  {
   "cell_type": "code",
   "execution_count": 7,
   "outputs": [],
   "source": [],
   "metadata": {
    "collapsed": false,
    "ExecuteTime": {
     "start_time": "2023-06-07T23:54:05.925565Z",
     "end_time": "2023-06-07T23:54:05.980583Z"
    }
   }
  }
 ],
 "metadata": {
  "kernelspec": {
   "display_name": "Python 3",
   "language": "python",
   "name": "python3"
  },
  "language_info": {
   "codemirror_mode": {
    "name": "ipython",
    "version": 2
   },
   "file_extension": ".py",
   "mimetype": "text/x-python",
   "name": "python",
   "nbconvert_exporter": "python",
   "pygments_lexer": "ipython2",
   "version": "2.7.6"
  }
 },
 "nbformat": 4,
 "nbformat_minor": 0
}
