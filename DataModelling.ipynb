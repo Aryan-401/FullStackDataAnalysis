{
 "cells": [
  {
   "cell_type": "code",
   "execution_count": 28,
   "metadata": {
    "collapsed": true,
    "ExecuteTime": {
     "start_time": "2023-06-08T00:32:40.901622Z",
     "end_time": "2023-06-08T00:32:40.924438Z"
    }
   },
   "outputs": [],
   "source": [
    "import pandas as pd"
   ]
  },
  {
   "cell_type": "code",
   "execution_count": 29,
   "outputs": [
    {
     "data": {
      "text/plain": "   VendorID tpep_pickup_datetime tpep_dropoff_datetime  passenger_count  \\\n0         1  2022-01-01 00:35:40   2022-01-01 00:53:29              2.0   \n1         1  2022-01-01 00:33:43   2022-01-01 00:42:07              1.0   \n2         2  2022-01-01 00:53:21   2022-01-01 01:02:19              1.0   \n3         2  2022-01-01 00:25:21   2022-01-01 00:35:23              1.0   \n4         2  2022-01-01 00:36:48   2022-01-01 01:14:20              1.0   \n\n   trip_distance  RatecodeID store_and_fwd_flag  PULocationID  DOLocationID  \\\n0           3.80         1.0                  N           142           236   \n1           2.10         1.0                  N           236            42   \n2           0.97         1.0                  N           166           166   \n3           1.09         1.0                  N           114            68   \n4           4.30         1.0                  N            68           163   \n\n   payment_type  fare_amount  extra  mta_tax  tip_amount  tolls_amount  \\\n0             1         14.5    3.0      0.5        3.65           0.0   \n1             1          8.0    0.5      0.5        4.00           0.0   \n2             1          7.5    0.5      0.5        1.76           0.0   \n3             2          8.0    0.5      0.5        0.00           0.0   \n4             1         23.5    0.5      0.5        3.00           0.0   \n\n   improvement_surcharge  total_amount  congestion_surcharge  airport_fee  \n0                    0.3         21.95                   2.5          0.0  \n1                    0.3         13.30                   0.0          0.0  \n2                    0.3         10.56                   0.0          0.0  \n3                    0.3         11.80                   2.5          0.0  \n4                    0.3         30.30                   2.5          0.0  ",
      "text/html": "<div>\n<style scoped>\n    .dataframe tbody tr th:only-of-type {\n        vertical-align: middle;\n    }\n\n    .dataframe tbody tr th {\n        vertical-align: top;\n    }\n\n    .dataframe thead th {\n        text-align: right;\n    }\n</style>\n<table border=\"1\" class=\"dataframe\">\n  <thead>\n    <tr style=\"text-align: right;\">\n      <th></th>\n      <th>VendorID</th>\n      <th>tpep_pickup_datetime</th>\n      <th>tpep_dropoff_datetime</th>\n      <th>passenger_count</th>\n      <th>trip_distance</th>\n      <th>RatecodeID</th>\n      <th>store_and_fwd_flag</th>\n      <th>PULocationID</th>\n      <th>DOLocationID</th>\n      <th>payment_type</th>\n      <th>fare_amount</th>\n      <th>extra</th>\n      <th>mta_tax</th>\n      <th>tip_amount</th>\n      <th>tolls_amount</th>\n      <th>improvement_surcharge</th>\n      <th>total_amount</th>\n      <th>congestion_surcharge</th>\n      <th>airport_fee</th>\n    </tr>\n  </thead>\n  <tbody>\n    <tr>\n      <th>0</th>\n      <td>1</td>\n      <td>2022-01-01 00:35:40</td>\n      <td>2022-01-01 00:53:29</td>\n      <td>2.0</td>\n      <td>3.80</td>\n      <td>1.0</td>\n      <td>N</td>\n      <td>142</td>\n      <td>236</td>\n      <td>1</td>\n      <td>14.5</td>\n      <td>3.0</td>\n      <td>0.5</td>\n      <td>3.65</td>\n      <td>0.0</td>\n      <td>0.3</td>\n      <td>21.95</td>\n      <td>2.5</td>\n      <td>0.0</td>\n    </tr>\n    <tr>\n      <th>1</th>\n      <td>1</td>\n      <td>2022-01-01 00:33:43</td>\n      <td>2022-01-01 00:42:07</td>\n      <td>1.0</td>\n      <td>2.10</td>\n      <td>1.0</td>\n      <td>N</td>\n      <td>236</td>\n      <td>42</td>\n      <td>1</td>\n      <td>8.0</td>\n      <td>0.5</td>\n      <td>0.5</td>\n      <td>4.00</td>\n      <td>0.0</td>\n      <td>0.3</td>\n      <td>13.30</td>\n      <td>0.0</td>\n      <td>0.0</td>\n    </tr>\n    <tr>\n      <th>2</th>\n      <td>2</td>\n      <td>2022-01-01 00:53:21</td>\n      <td>2022-01-01 01:02:19</td>\n      <td>1.0</td>\n      <td>0.97</td>\n      <td>1.0</td>\n      <td>N</td>\n      <td>166</td>\n      <td>166</td>\n      <td>1</td>\n      <td>7.5</td>\n      <td>0.5</td>\n      <td>0.5</td>\n      <td>1.76</td>\n      <td>0.0</td>\n      <td>0.3</td>\n      <td>10.56</td>\n      <td>0.0</td>\n      <td>0.0</td>\n    </tr>\n    <tr>\n      <th>3</th>\n      <td>2</td>\n      <td>2022-01-01 00:25:21</td>\n      <td>2022-01-01 00:35:23</td>\n      <td>1.0</td>\n      <td>1.09</td>\n      <td>1.0</td>\n      <td>N</td>\n      <td>114</td>\n      <td>68</td>\n      <td>2</td>\n      <td>8.0</td>\n      <td>0.5</td>\n      <td>0.5</td>\n      <td>0.00</td>\n      <td>0.0</td>\n      <td>0.3</td>\n      <td>11.80</td>\n      <td>2.5</td>\n      <td>0.0</td>\n    </tr>\n    <tr>\n      <th>4</th>\n      <td>2</td>\n      <td>2022-01-01 00:36:48</td>\n      <td>2022-01-01 01:14:20</td>\n      <td>1.0</td>\n      <td>4.30</td>\n      <td>1.0</td>\n      <td>N</td>\n      <td>68</td>\n      <td>163</td>\n      <td>1</td>\n      <td>23.5</td>\n      <td>0.5</td>\n      <td>0.5</td>\n      <td>3.00</td>\n      <td>0.0</td>\n      <td>0.3</td>\n      <td>30.30</td>\n      <td>2.5</td>\n      <td>0.0</td>\n    </tr>\n  </tbody>\n</table>\n</div>"
     },
     "execution_count": 29,
     "metadata": {},
     "output_type": "execute_result"
    }
   ],
   "source": [
    "df = pd.read_parquet('data/yellow_tripdata_2022-01.parquet').head(1000)  # sampling data\n",
    "df_taxi_zone = pd.read_csv('data/taxi_zones.csv')\n",
    "df.head()"
   ],
   "metadata": {
    "collapsed": false,
    "ExecuteTime": {
     "start_time": "2023-06-08T00:32:41.420044Z",
     "end_time": "2023-06-08T00:32:41.817676Z"
    }
   }
  },
  {
   "cell_type": "code",
   "execution_count": 30,
   "outputs": [],
   "source": [
    "def get_coordinates(id, column='x'):\n",
    "    try:\n",
    "        return df_taxi_zone[df_taxi_zone['location_id'] == id][[f'coordinate_{column}']].values[0][0]\n",
    "    except IndexError:\n",
    "        return 0"
   ],
   "metadata": {
    "collapsed": false,
    "ExecuteTime": {
     "start_time": "2023-06-08T00:32:42.486234Z",
     "end_time": "2023-06-08T00:32:42.521723Z"
    }
   }
  },
  {
   "cell_type": "code",
   "execution_count": 31,
   "outputs": [
    {
     "data": {
      "text/plain": "(-73.84742223236718, 0)"
     },
     "execution_count": 31,
     "metadata": {},
     "output_type": "execute_result"
    }
   ],
   "source": [
    "get_coordinates(3), get_coordinates(2024)  #Testing Function"
   ],
   "metadata": {
    "collapsed": false,
    "ExecuteTime": {
     "start_time": "2023-06-08T00:32:43.001009Z",
     "end_time": "2023-06-08T00:32:43.023051Z"
    }
   }
  },
  {
   "cell_type": "code",
   "execution_count": 32,
   "outputs": [
    {
     "data": {
      "text/plain": "     location_id                       zone  coordinate_x  coordinate_y\n0              1             Newark Airport    -74.174000     40.691831\n1              2                Jamaica Bay    -73.831299     40.616745\n2              3    Allerton/Pelham Gardens    -73.847422     40.864474\n3              4              Alphabet City    -73.976968     40.723752\n4              5              Arden Heights    -74.188484     40.552659\n..           ...                        ...           ...           ...\n258          256  Williamsburg (South Side)    -73.959905     40.710880\n259          259         Woodlawn/Wakefield    -73.852215     40.897932\n260          260                   Woodside    -73.906306     40.744235\n261          261         World Trade Center    -74.013023     40.709139\n262          262             Yorkville East    -73.946510     40.775932\n\n[263 rows x 4 columns]",
      "text/html": "<div>\n<style scoped>\n    .dataframe tbody tr th:only-of-type {\n        vertical-align: middle;\n    }\n\n    .dataframe tbody tr th {\n        vertical-align: top;\n    }\n\n    .dataframe thead th {\n        text-align: right;\n    }\n</style>\n<table border=\"1\" class=\"dataframe\">\n  <thead>\n    <tr style=\"text-align: right;\">\n      <th></th>\n      <th>location_id</th>\n      <th>zone</th>\n      <th>coordinate_x</th>\n      <th>coordinate_y</th>\n    </tr>\n  </thead>\n  <tbody>\n    <tr>\n      <th>0</th>\n      <td>1</td>\n      <td>Newark Airport</td>\n      <td>-74.174000</td>\n      <td>40.691831</td>\n    </tr>\n    <tr>\n      <th>1</th>\n      <td>2</td>\n      <td>Jamaica Bay</td>\n      <td>-73.831299</td>\n      <td>40.616745</td>\n    </tr>\n    <tr>\n      <th>2</th>\n      <td>3</td>\n      <td>Allerton/Pelham Gardens</td>\n      <td>-73.847422</td>\n      <td>40.864474</td>\n    </tr>\n    <tr>\n      <th>3</th>\n      <td>4</td>\n      <td>Alphabet City</td>\n      <td>-73.976968</td>\n      <td>40.723752</td>\n    </tr>\n    <tr>\n      <th>4</th>\n      <td>5</td>\n      <td>Arden Heights</td>\n      <td>-74.188484</td>\n      <td>40.552659</td>\n    </tr>\n    <tr>\n      <th>...</th>\n      <td>...</td>\n      <td>...</td>\n      <td>...</td>\n      <td>...</td>\n    </tr>\n    <tr>\n      <th>258</th>\n      <td>256</td>\n      <td>Williamsburg (South Side)</td>\n      <td>-73.959905</td>\n      <td>40.710880</td>\n    </tr>\n    <tr>\n      <th>259</th>\n      <td>259</td>\n      <td>Woodlawn/Wakefield</td>\n      <td>-73.852215</td>\n      <td>40.897932</td>\n    </tr>\n    <tr>\n      <th>260</th>\n      <td>260</td>\n      <td>Woodside</td>\n      <td>-73.906306</td>\n      <td>40.744235</td>\n    </tr>\n    <tr>\n      <th>261</th>\n      <td>261</td>\n      <td>World Trade Center</td>\n      <td>-74.013023</td>\n      <td>40.709139</td>\n    </tr>\n    <tr>\n      <th>262</th>\n      <td>262</td>\n      <td>Yorkville East</td>\n      <td>-73.946510</td>\n      <td>40.775932</td>\n    </tr>\n  </tbody>\n</table>\n<p>263 rows × 4 columns</p>\n</div>"
     },
     "execution_count": 32,
     "metadata": {},
     "output_type": "execute_result"
    }
   ],
   "source": [
    "df_taxi_zone"
   ],
   "metadata": {
    "collapsed": false,
    "ExecuteTime": {
     "start_time": "2023-06-08T00:32:43.530575Z",
     "end_time": "2023-06-08T00:32:43.565192Z"
    }
   }
  },
  {
   "cell_type": "code",
   "execution_count": 33,
   "outputs": [],
   "source": [
    "df[\"PULocation_x\"]= df.apply(lambda row: get_coordinates(row[\"PULocationID\"]), axis=1)\n",
    "df[\"PULocation_y\"]= df.apply(lambda row: get_coordinates(row[\"PULocationID\"], 'y'), axis=1)\n",
    "df[\"DOLocation_x\"]= df.apply(lambda row: get_coordinates(row[\"DOLocationID\"]), axis=1)\n",
    "df[\"DOLocation_y\"]= df.apply(lambda row: get_coordinates(row[\"PULocationID\"],'y'), axis=1)\n",
    "\n",
    "df.drop(['PULocationID', 'DOLocationID'], axis=1, inplace=True)"
   ],
   "metadata": {
    "collapsed": false,
    "ExecuteTime": {
     "start_time": "2023-06-08T00:32:44.417193Z",
     "end_time": "2023-06-08T00:32:46.180041Z"
    }
   }
  },
  {
   "cell_type": "code",
   "execution_count": 34,
   "outputs": [
    {
     "name": "stdout",
     "output_type": "stream",
     "text": [
      "<class 'pandas.core.frame.DataFrame'>\n",
      "RangeIndex: 1000 entries, 0 to 999\n",
      "Data columns (total 21 columns):\n",
      " #   Column                 Non-Null Count  Dtype         \n",
      "---  ------                 --------------  -----         \n",
      " 0   VendorID               1000 non-null   int64         \n",
      " 1   tpep_pickup_datetime   1000 non-null   datetime64[ns]\n",
      " 2   tpep_dropoff_datetime  1000 non-null   datetime64[ns]\n",
      " 3   passenger_count        1000 non-null   float64       \n",
      " 4   trip_distance          1000 non-null   float64       \n",
      " 5   RatecodeID             1000 non-null   float64       \n",
      " 6   store_and_fwd_flag     1000 non-null   object        \n",
      " 7   payment_type           1000 non-null   int64         \n",
      " 8   fare_amount            1000 non-null   float64       \n",
      " 9   extra                  1000 non-null   float64       \n",
      " 10  mta_tax                1000 non-null   float64       \n",
      " 11  tip_amount             1000 non-null   float64       \n",
      " 12  tolls_amount           1000 non-null   float64       \n",
      " 13  improvement_surcharge  1000 non-null   float64       \n",
      " 14  total_amount           1000 non-null   float64       \n",
      " 15  congestion_surcharge   1000 non-null   float64       \n",
      " 16  airport_fee            1000 non-null   float64       \n",
      " 17  PULocation_x           1000 non-null   float64       \n",
      " 18  PULocation_y           1000 non-null   float64       \n",
      " 19  DOLocation_x           1000 non-null   float64       \n",
      " 20  DOLocation_y           1000 non-null   float64       \n",
      "dtypes: datetime64[ns](2), float64(16), int64(2), object(1)\n",
      "memory usage: 164.2+ KB\n"
     ]
    }
   ],
   "source": [
    "df.info()"
   ],
   "metadata": {
    "collapsed": false,
    "ExecuteTime": {
     "start_time": "2023-06-08T00:32:49.295643Z",
     "end_time": "2023-06-08T00:32:49.340175Z"
    }
   }
  },
  {
   "cell_type": "code",
   "execution_count": 35,
   "outputs": [],
   "source": [
    "df['tpep_pickup_datetime'] = pd.to_datetime(df['tpep_pickup_datetime'])\n",
    "df['tpep_dropoff_datetime'] = pd.to_datetime(df['tpep_dropoff_datetime'])"
   ],
   "metadata": {
    "collapsed": false,
    "ExecuteTime": {
     "start_time": "2023-06-08T00:32:51.578179Z",
     "end_time": "2023-06-08T00:32:51.596178Z"
    }
   }
  },
  {
   "cell_type": "code",
   "execution_count": 36,
   "outputs": [
    {
     "name": "stdout",
     "output_type": "stream",
     "text": [
      "<class 'pandas.core.frame.DataFrame'>\n",
      "RangeIndex: 1000 entries, 0 to 999\n",
      "Data columns (total 21 columns):\n",
      " #   Column                 Non-Null Count  Dtype         \n",
      "---  ------                 --------------  -----         \n",
      " 0   VendorID               1000 non-null   int64         \n",
      " 1   tpep_pickup_datetime   1000 non-null   datetime64[ns]\n",
      " 2   tpep_dropoff_datetime  1000 non-null   datetime64[ns]\n",
      " 3   passenger_count        1000 non-null   float64       \n",
      " 4   trip_distance          1000 non-null   float64       \n",
      " 5   RatecodeID             1000 non-null   float64       \n",
      " 6   store_and_fwd_flag     1000 non-null   object        \n",
      " 7   payment_type           1000 non-null   int64         \n",
      " 8   fare_amount            1000 non-null   float64       \n",
      " 9   extra                  1000 non-null   float64       \n",
      " 10  mta_tax                1000 non-null   float64       \n",
      " 11  tip_amount             1000 non-null   float64       \n",
      " 12  tolls_amount           1000 non-null   float64       \n",
      " 13  improvement_surcharge  1000 non-null   float64       \n",
      " 14  total_amount           1000 non-null   float64       \n",
      " 15  congestion_surcharge   1000 non-null   float64       \n",
      " 16  airport_fee            1000 non-null   float64       \n",
      " 17  PULocation_x           1000 non-null   float64       \n",
      " 18  PULocation_y           1000 non-null   float64       \n",
      " 19  DOLocation_x           1000 non-null   float64       \n",
      " 20  DOLocation_y           1000 non-null   float64       \n",
      "dtypes: datetime64[ns](2), float64(16), int64(2), object(1)\n",
      "memory usage: 164.2+ KB\n"
     ]
    }
   ],
   "source": [
    "df.info()"
   ],
   "metadata": {
    "collapsed": false,
    "ExecuteTime": {
     "start_time": "2023-06-08T00:32:53.076631Z",
     "end_time": "2023-06-08T00:32:53.093916Z"
    }
   }
  },
  {
   "cell_type": "code",
   "execution_count": 37,
   "outputs": [],
   "source": [
    "df = df.drop_duplicates().reset_index(drop=True)\n",
    "df['trip_id'] = df.index"
   ],
   "metadata": {
    "collapsed": false,
    "ExecuteTime": {
     "start_time": "2023-06-08T00:32:54.371058Z",
     "end_time": "2023-06-08T00:32:54.392198Z"
    }
   }
  },
  {
   "cell_type": "code",
   "execution_count": 38,
   "outputs": [
    {
     "data": {
      "text/plain": "    tpep_pickup_datetime tpep_dropoff_datetime  pick_hour  pick_day  \\\n0    2022-01-01 00:35:40   2022-01-01 00:53:29          0         1   \n1    2022-01-01 00:33:43   2022-01-01 00:42:07          0         1   \n2    2022-01-01 00:53:21   2022-01-01 01:02:19          0         1   \n3    2022-01-01 00:25:21   2022-01-01 00:35:23          0         1   \n4    2022-01-01 00:36:48   2022-01-01 01:14:20          0         1   \n..                   ...                   ...        ...       ...   \n995  2022-01-01 00:15:15   2022-01-01 00:19:08          0         1   \n996  2022-01-01 00:32:25   2022-01-01 00:44:22          0         1   \n997  2022-01-01 00:53:58   2022-01-01 00:57:04          0         1   \n998  2022-01-01 00:21:20   2022-01-01 00:32:00          0         1   \n999  2022-01-01 00:34:54   2022-01-01 00:43:45          0         1   \n\n     pick_month  pick_year  pick_weekday  drop_hour  drop_day  drop_month  \\\n0             1       2022             5          0         1           1   \n1             1       2022             5          0         1           1   \n2             1       2022             5          0         1           1   \n3             1       2022             5          0         1           1   \n4             1       2022             5          0         1           1   \n..          ...        ...           ...        ...       ...         ...   \n995           1       2022             5          0         1           1   \n996           1       2022             5          0         1           1   \n997           1       2022             5          0         1           1   \n998           1       2022             5          0         1           1   \n999           1       2022             5          0         1           1   \n\n     drop_year  drop_weekday  \n0         2022             5  \n1         2022             5  \n2         2022             5  \n3         2022             5  \n4         2022             5  \n..         ...           ...  \n995       2022             5  \n996       2022             5  \n997       2022             5  \n998       2022             5  \n999       2022             5  \n\n[1000 rows x 12 columns]",
      "text/html": "<div>\n<style scoped>\n    .dataframe tbody tr th:only-of-type {\n        vertical-align: middle;\n    }\n\n    .dataframe tbody tr th {\n        vertical-align: top;\n    }\n\n    .dataframe thead th {\n        text-align: right;\n    }\n</style>\n<table border=\"1\" class=\"dataframe\">\n  <thead>\n    <tr style=\"text-align: right;\">\n      <th></th>\n      <th>tpep_pickup_datetime</th>\n      <th>tpep_dropoff_datetime</th>\n      <th>pick_hour</th>\n      <th>pick_day</th>\n      <th>pick_month</th>\n      <th>pick_year</th>\n      <th>pick_weekday</th>\n      <th>drop_hour</th>\n      <th>drop_day</th>\n      <th>drop_month</th>\n      <th>drop_year</th>\n      <th>drop_weekday</th>\n    </tr>\n  </thead>\n  <tbody>\n    <tr>\n      <th>0</th>\n      <td>2022-01-01 00:35:40</td>\n      <td>2022-01-01 00:53:29</td>\n      <td>0</td>\n      <td>1</td>\n      <td>1</td>\n      <td>2022</td>\n      <td>5</td>\n      <td>0</td>\n      <td>1</td>\n      <td>1</td>\n      <td>2022</td>\n      <td>5</td>\n    </tr>\n    <tr>\n      <th>1</th>\n      <td>2022-01-01 00:33:43</td>\n      <td>2022-01-01 00:42:07</td>\n      <td>0</td>\n      <td>1</td>\n      <td>1</td>\n      <td>2022</td>\n      <td>5</td>\n      <td>0</td>\n      <td>1</td>\n      <td>1</td>\n      <td>2022</td>\n      <td>5</td>\n    </tr>\n    <tr>\n      <th>2</th>\n      <td>2022-01-01 00:53:21</td>\n      <td>2022-01-01 01:02:19</td>\n      <td>0</td>\n      <td>1</td>\n      <td>1</td>\n      <td>2022</td>\n      <td>5</td>\n      <td>0</td>\n      <td>1</td>\n      <td>1</td>\n      <td>2022</td>\n      <td>5</td>\n    </tr>\n    <tr>\n      <th>3</th>\n      <td>2022-01-01 00:25:21</td>\n      <td>2022-01-01 00:35:23</td>\n      <td>0</td>\n      <td>1</td>\n      <td>1</td>\n      <td>2022</td>\n      <td>5</td>\n      <td>0</td>\n      <td>1</td>\n      <td>1</td>\n      <td>2022</td>\n      <td>5</td>\n    </tr>\n    <tr>\n      <th>4</th>\n      <td>2022-01-01 00:36:48</td>\n      <td>2022-01-01 01:14:20</td>\n      <td>0</td>\n      <td>1</td>\n      <td>1</td>\n      <td>2022</td>\n      <td>5</td>\n      <td>0</td>\n      <td>1</td>\n      <td>1</td>\n      <td>2022</td>\n      <td>5</td>\n    </tr>\n    <tr>\n      <th>...</th>\n      <td>...</td>\n      <td>...</td>\n      <td>...</td>\n      <td>...</td>\n      <td>...</td>\n      <td>...</td>\n      <td>...</td>\n      <td>...</td>\n      <td>...</td>\n      <td>...</td>\n      <td>...</td>\n      <td>...</td>\n    </tr>\n    <tr>\n      <th>995</th>\n      <td>2022-01-01 00:15:15</td>\n      <td>2022-01-01 00:19:08</td>\n      <td>0</td>\n      <td>1</td>\n      <td>1</td>\n      <td>2022</td>\n      <td>5</td>\n      <td>0</td>\n      <td>1</td>\n      <td>1</td>\n      <td>2022</td>\n      <td>5</td>\n    </tr>\n    <tr>\n      <th>996</th>\n      <td>2022-01-01 00:32:25</td>\n      <td>2022-01-01 00:44:22</td>\n      <td>0</td>\n      <td>1</td>\n      <td>1</td>\n      <td>2022</td>\n      <td>5</td>\n      <td>0</td>\n      <td>1</td>\n      <td>1</td>\n      <td>2022</td>\n      <td>5</td>\n    </tr>\n    <tr>\n      <th>997</th>\n      <td>2022-01-01 00:53:58</td>\n      <td>2022-01-01 00:57:04</td>\n      <td>0</td>\n      <td>1</td>\n      <td>1</td>\n      <td>2022</td>\n      <td>5</td>\n      <td>0</td>\n      <td>1</td>\n      <td>1</td>\n      <td>2022</td>\n      <td>5</td>\n    </tr>\n    <tr>\n      <th>998</th>\n      <td>2022-01-01 00:21:20</td>\n      <td>2022-01-01 00:32:00</td>\n      <td>0</td>\n      <td>1</td>\n      <td>1</td>\n      <td>2022</td>\n      <td>5</td>\n      <td>0</td>\n      <td>1</td>\n      <td>1</td>\n      <td>2022</td>\n      <td>5</td>\n    </tr>\n    <tr>\n      <th>999</th>\n      <td>2022-01-01 00:34:54</td>\n      <td>2022-01-01 00:43:45</td>\n      <td>0</td>\n      <td>1</td>\n      <td>1</td>\n      <td>2022</td>\n      <td>5</td>\n      <td>0</td>\n      <td>1</td>\n      <td>1</td>\n      <td>2022</td>\n      <td>5</td>\n    </tr>\n  </tbody>\n</table>\n<p>1000 rows × 12 columns</p>\n</div>"
     },
     "execution_count": 38,
     "metadata": {},
     "output_type": "execute_result"
    }
   ],
   "source": [
    "datetime_dim = df[['tpep_pickup_datetime', 'tpep_dropoff_datetime']].reset_index(drop=True)\n",
    "datetime_dim['pick_hour'] = datetime_dim['tpep_pickup_datetime'].dt.hour\n",
    "datetime_dim['pick_day'] = datetime_dim['tpep_pickup_datetime'].dt.day\n",
    "datetime_dim['pick_month'] = datetime_dim['tpep_pickup_datetime'].dt.month\n",
    "datetime_dim['pick_year'] = datetime_dim['tpep_pickup_datetime'].dt.year\n",
    "datetime_dim['pick_weekday'] = datetime_dim['tpep_pickup_datetime'].dt.weekday\n",
    "\n",
    "\n",
    "datetime_dim['drop_hour'] = datetime_dim['tpep_pickup_datetime'].dt.hour\n",
    "datetime_dim['drop_day'] = datetime_dim['tpep_pickup_datetime'].dt.day\n",
    "datetime_dim['drop_month'] = datetime_dim['tpep_pickup_datetime'].dt.month\n",
    "datetime_dim['drop_year'] = datetime_dim['tpep_pickup_datetime'].dt.year\n",
    "datetime_dim['drop_weekday'] = datetime_dim['tpep_pickup_datetime'].dt.weekday\n",
    "\n",
    "datetime_dim"
   ],
   "metadata": {
    "collapsed": false,
    "ExecuteTime": {
     "start_time": "2023-06-08T00:32:56.570547Z",
     "end_time": "2023-06-08T00:32:56.620774Z"
    }
   }
  },
  {
   "cell_type": "code",
   "execution_count": 39,
   "outputs": [],
   "source": [
    "datetime_dim['datetime_id'] = datetime_dim.index"
   ],
   "metadata": {
    "collapsed": false,
    "ExecuteTime": {
     "start_time": "2023-06-08T00:32:57.478987Z",
     "end_time": "2023-06-08T00:32:57.497865Z"
    }
   }
  },
  {
   "cell_type": "code",
   "execution_count": 40,
   "outputs": [],
   "source": [
    "datetime_dim = datetime_dim[['datetime_id', 'tpep_pickup_datetime', 'pick_hour', 'pick_day', 'pick_month', 'pick_year', 'pick_weekday',\n",
    "       'tpep_dropoff_datetime', 'drop_hour', 'drop_day', 'drop_month', 'drop_year', 'drop_weekday']]"
   ],
   "metadata": {
    "collapsed": false,
    "ExecuteTime": {
     "start_time": "2023-06-08T00:32:58.175132Z",
     "end_time": "2023-06-08T00:32:58.204393Z"
    }
   }
  },
  {
   "cell_type": "code",
   "execution_count": 41,
   "outputs": [
    {
     "data": {
      "text/plain": "     datetime_id tpep_pickup_datetime  pick_hour  pick_day  pick_month  \\\n0              0  2022-01-01 00:35:40          0         1           1   \n1              1  2022-01-01 00:33:43          0         1           1   \n2              2  2022-01-01 00:53:21          0         1           1   \n3              3  2022-01-01 00:25:21          0         1           1   \n4              4  2022-01-01 00:36:48          0         1           1   \n..           ...                  ...        ...       ...         ...   \n995          995  2022-01-01 00:15:15          0         1           1   \n996          996  2022-01-01 00:32:25          0         1           1   \n997          997  2022-01-01 00:53:58          0         1           1   \n998          998  2022-01-01 00:21:20          0         1           1   \n999          999  2022-01-01 00:34:54          0         1           1   \n\n     pick_year  pick_weekday tpep_dropoff_datetime  drop_hour  drop_day  \\\n0         2022             5   2022-01-01 00:53:29          0         1   \n1         2022             5   2022-01-01 00:42:07          0         1   \n2         2022             5   2022-01-01 01:02:19          0         1   \n3         2022             5   2022-01-01 00:35:23          0         1   \n4         2022             5   2022-01-01 01:14:20          0         1   \n..         ...           ...                   ...        ...       ...   \n995       2022             5   2022-01-01 00:19:08          0         1   \n996       2022             5   2022-01-01 00:44:22          0         1   \n997       2022             5   2022-01-01 00:57:04          0         1   \n998       2022             5   2022-01-01 00:32:00          0         1   \n999       2022             5   2022-01-01 00:43:45          0         1   \n\n     drop_month  drop_year  drop_weekday  \n0             1       2022             5  \n1             1       2022             5  \n2             1       2022             5  \n3             1       2022             5  \n4             1       2022             5  \n..          ...        ...           ...  \n995           1       2022             5  \n996           1       2022             5  \n997           1       2022             5  \n998           1       2022             5  \n999           1       2022             5  \n\n[1000 rows x 13 columns]",
      "text/html": "<div>\n<style scoped>\n    .dataframe tbody tr th:only-of-type {\n        vertical-align: middle;\n    }\n\n    .dataframe tbody tr th {\n        vertical-align: top;\n    }\n\n    .dataframe thead th {\n        text-align: right;\n    }\n</style>\n<table border=\"1\" class=\"dataframe\">\n  <thead>\n    <tr style=\"text-align: right;\">\n      <th></th>\n      <th>datetime_id</th>\n      <th>tpep_pickup_datetime</th>\n      <th>pick_hour</th>\n      <th>pick_day</th>\n      <th>pick_month</th>\n      <th>pick_year</th>\n      <th>pick_weekday</th>\n      <th>tpep_dropoff_datetime</th>\n      <th>drop_hour</th>\n      <th>drop_day</th>\n      <th>drop_month</th>\n      <th>drop_year</th>\n      <th>drop_weekday</th>\n    </tr>\n  </thead>\n  <tbody>\n    <tr>\n      <th>0</th>\n      <td>0</td>\n      <td>2022-01-01 00:35:40</td>\n      <td>0</td>\n      <td>1</td>\n      <td>1</td>\n      <td>2022</td>\n      <td>5</td>\n      <td>2022-01-01 00:53:29</td>\n      <td>0</td>\n      <td>1</td>\n      <td>1</td>\n      <td>2022</td>\n      <td>5</td>\n    </tr>\n    <tr>\n      <th>1</th>\n      <td>1</td>\n      <td>2022-01-01 00:33:43</td>\n      <td>0</td>\n      <td>1</td>\n      <td>1</td>\n      <td>2022</td>\n      <td>5</td>\n      <td>2022-01-01 00:42:07</td>\n      <td>0</td>\n      <td>1</td>\n      <td>1</td>\n      <td>2022</td>\n      <td>5</td>\n    </tr>\n    <tr>\n      <th>2</th>\n      <td>2</td>\n      <td>2022-01-01 00:53:21</td>\n      <td>0</td>\n      <td>1</td>\n      <td>1</td>\n      <td>2022</td>\n      <td>5</td>\n      <td>2022-01-01 01:02:19</td>\n      <td>0</td>\n      <td>1</td>\n      <td>1</td>\n      <td>2022</td>\n      <td>5</td>\n    </tr>\n    <tr>\n      <th>3</th>\n      <td>3</td>\n      <td>2022-01-01 00:25:21</td>\n      <td>0</td>\n      <td>1</td>\n      <td>1</td>\n      <td>2022</td>\n      <td>5</td>\n      <td>2022-01-01 00:35:23</td>\n      <td>0</td>\n      <td>1</td>\n      <td>1</td>\n      <td>2022</td>\n      <td>5</td>\n    </tr>\n    <tr>\n      <th>4</th>\n      <td>4</td>\n      <td>2022-01-01 00:36:48</td>\n      <td>0</td>\n      <td>1</td>\n      <td>1</td>\n      <td>2022</td>\n      <td>5</td>\n      <td>2022-01-01 01:14:20</td>\n      <td>0</td>\n      <td>1</td>\n      <td>1</td>\n      <td>2022</td>\n      <td>5</td>\n    </tr>\n    <tr>\n      <th>...</th>\n      <td>...</td>\n      <td>...</td>\n      <td>...</td>\n      <td>...</td>\n      <td>...</td>\n      <td>...</td>\n      <td>...</td>\n      <td>...</td>\n      <td>...</td>\n      <td>...</td>\n      <td>...</td>\n      <td>...</td>\n      <td>...</td>\n    </tr>\n    <tr>\n      <th>995</th>\n      <td>995</td>\n      <td>2022-01-01 00:15:15</td>\n      <td>0</td>\n      <td>1</td>\n      <td>1</td>\n      <td>2022</td>\n      <td>5</td>\n      <td>2022-01-01 00:19:08</td>\n      <td>0</td>\n      <td>1</td>\n      <td>1</td>\n      <td>2022</td>\n      <td>5</td>\n    </tr>\n    <tr>\n      <th>996</th>\n      <td>996</td>\n      <td>2022-01-01 00:32:25</td>\n      <td>0</td>\n      <td>1</td>\n      <td>1</td>\n      <td>2022</td>\n      <td>5</td>\n      <td>2022-01-01 00:44:22</td>\n      <td>0</td>\n      <td>1</td>\n      <td>1</td>\n      <td>2022</td>\n      <td>5</td>\n    </tr>\n    <tr>\n      <th>997</th>\n      <td>997</td>\n      <td>2022-01-01 00:53:58</td>\n      <td>0</td>\n      <td>1</td>\n      <td>1</td>\n      <td>2022</td>\n      <td>5</td>\n      <td>2022-01-01 00:57:04</td>\n      <td>0</td>\n      <td>1</td>\n      <td>1</td>\n      <td>2022</td>\n      <td>5</td>\n    </tr>\n    <tr>\n      <th>998</th>\n      <td>998</td>\n      <td>2022-01-01 00:21:20</td>\n      <td>0</td>\n      <td>1</td>\n      <td>1</td>\n      <td>2022</td>\n      <td>5</td>\n      <td>2022-01-01 00:32:00</td>\n      <td>0</td>\n      <td>1</td>\n      <td>1</td>\n      <td>2022</td>\n      <td>5</td>\n    </tr>\n    <tr>\n      <th>999</th>\n      <td>999</td>\n      <td>2022-01-01 00:34:54</td>\n      <td>0</td>\n      <td>1</td>\n      <td>1</td>\n      <td>2022</td>\n      <td>5</td>\n      <td>2022-01-01 00:43:45</td>\n      <td>0</td>\n      <td>1</td>\n      <td>1</td>\n      <td>2022</td>\n      <td>5</td>\n    </tr>\n  </tbody>\n</table>\n<p>1000 rows × 13 columns</p>\n</div>"
     },
     "execution_count": 41,
     "metadata": {},
     "output_type": "execute_result"
    }
   ],
   "source": [
    "datetime_dim"
   ],
   "metadata": {
    "collapsed": false,
    "ExecuteTime": {
     "start_time": "2023-06-08T00:32:59.069332Z",
     "end_time": "2023-06-08T00:32:59.098428Z"
    }
   }
  },
  {
   "cell_type": "code",
   "execution_count": 43,
   "outputs": [
    {
     "data": {
      "text/plain": "     passenger_count_id  passenger_count\n0                     0                2\n1                     1                1\n2                     2                1\n3                     3                1\n4                     4                1\n..                  ...              ...\n995                 995                2\n996                 996                3\n997                 997                2\n998                 998                1\n999                 999                1\n\n[1000 rows x 2 columns]",
      "text/html": "<div>\n<style scoped>\n    .dataframe tbody tr th:only-of-type {\n        vertical-align: middle;\n    }\n\n    .dataframe tbody tr th {\n        vertical-align: top;\n    }\n\n    .dataframe thead th {\n        text-align: right;\n    }\n</style>\n<table border=\"1\" class=\"dataframe\">\n  <thead>\n    <tr style=\"text-align: right;\">\n      <th></th>\n      <th>passenger_count_id</th>\n      <th>passenger_count</th>\n    </tr>\n  </thead>\n  <tbody>\n    <tr>\n      <th>0</th>\n      <td>0</td>\n      <td>2</td>\n    </tr>\n    <tr>\n      <th>1</th>\n      <td>1</td>\n      <td>1</td>\n    </tr>\n    <tr>\n      <th>2</th>\n      <td>2</td>\n      <td>1</td>\n    </tr>\n    <tr>\n      <th>3</th>\n      <td>3</td>\n      <td>1</td>\n    </tr>\n    <tr>\n      <th>4</th>\n      <td>4</td>\n      <td>1</td>\n    </tr>\n    <tr>\n      <th>...</th>\n      <td>...</td>\n      <td>...</td>\n    </tr>\n    <tr>\n      <th>995</th>\n      <td>995</td>\n      <td>2</td>\n    </tr>\n    <tr>\n      <th>996</th>\n      <td>996</td>\n      <td>3</td>\n    </tr>\n    <tr>\n      <th>997</th>\n      <td>997</td>\n      <td>2</td>\n    </tr>\n    <tr>\n      <th>998</th>\n      <td>998</td>\n      <td>1</td>\n    </tr>\n    <tr>\n      <th>999</th>\n      <td>999</td>\n      <td>1</td>\n    </tr>\n  </tbody>\n</table>\n<p>1000 rows × 2 columns</p>\n</div>"
     },
     "execution_count": 43,
     "metadata": {},
     "output_type": "execute_result"
    }
   ],
   "source": [
    "passenger_count_dim = df[['passenger_count']].reset_index(drop=True)\n",
    "passenger_count_dim['passenger_count_id'] = passenger_count_dim.index\n",
    "passenger_count_dim['passenger_count'] = passenger_count_dim['passenger_count'].astype('int')\n",
    "passenger_count_dim[['passenger_count_id', 'passenger_count']]"
   ],
   "metadata": {
    "collapsed": false,
    "ExecuteTime": {
     "start_time": "2023-06-08T00:35:57.908753Z",
     "end_time": "2023-06-08T00:35:57.932808Z"
    }
   }
  },
  {
   "cell_type": "code",
   "execution_count": 45,
   "outputs": [
    {
     "data": {
      "text/plain": "     trip_distance_id  trip_distance\n0                   0           3.80\n1                   1           2.10\n2                   2           0.97\n3                   3           1.09\n4                   4           4.30\n..                ...            ...\n995               995           0.98\n996               996           2.13\n997               997           0.35\n998               998           1.85\n999               999           1.80\n\n[1000 rows x 2 columns]",
      "text/html": "<div>\n<style scoped>\n    .dataframe tbody tr th:only-of-type {\n        vertical-align: middle;\n    }\n\n    .dataframe tbody tr th {\n        vertical-align: top;\n    }\n\n    .dataframe thead th {\n        text-align: right;\n    }\n</style>\n<table border=\"1\" class=\"dataframe\">\n  <thead>\n    <tr style=\"text-align: right;\">\n      <th></th>\n      <th>trip_distance_id</th>\n      <th>trip_distance</th>\n    </tr>\n  </thead>\n  <tbody>\n    <tr>\n      <th>0</th>\n      <td>0</td>\n      <td>3.80</td>\n    </tr>\n    <tr>\n      <th>1</th>\n      <td>1</td>\n      <td>2.10</td>\n    </tr>\n    <tr>\n      <th>2</th>\n      <td>2</td>\n      <td>0.97</td>\n    </tr>\n    <tr>\n      <th>3</th>\n      <td>3</td>\n      <td>1.09</td>\n    </tr>\n    <tr>\n      <th>4</th>\n      <td>4</td>\n      <td>4.30</td>\n    </tr>\n    <tr>\n      <th>...</th>\n      <td>...</td>\n      <td>...</td>\n    </tr>\n    <tr>\n      <th>995</th>\n      <td>995</td>\n      <td>0.98</td>\n    </tr>\n    <tr>\n      <th>996</th>\n      <td>996</td>\n      <td>2.13</td>\n    </tr>\n    <tr>\n      <th>997</th>\n      <td>997</td>\n      <td>0.35</td>\n    </tr>\n    <tr>\n      <th>998</th>\n      <td>998</td>\n      <td>1.85</td>\n    </tr>\n    <tr>\n      <th>999</th>\n      <td>999</td>\n      <td>1.80</td>\n    </tr>\n  </tbody>\n</table>\n<p>1000 rows × 2 columns</p>\n</div>"
     },
     "execution_count": 45,
     "metadata": {},
     "output_type": "execute_result"
    }
   ],
   "source": [
    "trip_distance_dim = df[['trip_distance']].reset_index(drop=True)\n",
    "trip_distance_dim['trip_distance_id'] = trip_distance_dim.index\n",
    "trip_distance_dim[['trip_distance_id', 'trip_distance']]"
   ],
   "metadata": {
    "collapsed": false,
    "ExecuteTime": {
     "start_time": "2023-06-08T00:37:56.554334Z",
     "end_time": "2023-06-08T00:37:56.581845Z"
    }
   }
  },
  {
   "cell_type": "code",
   "execution_count": 46,
   "outputs": [
    {
     "data": {
      "text/plain": "     PU_location_id  PULocation_x  PULocation_y\n0                 0    -73.981532     40.773633\n1                 1    -73.957012     40.780436\n2                 2    -73.961764     40.809457\n3                 3    -73.997380     40.728340\n4                 4    -73.999917     40.748428\n..              ...           ...           ...\n995             995    -73.985937     40.727620\n996             996    -73.985937     40.727620\n997             997    -73.984052     40.736824\n998             998    -73.985156     40.748575\n999             999    -74.008984     40.735035\n\n[1000 rows x 3 columns]",
      "text/html": "<div>\n<style scoped>\n    .dataframe tbody tr th:only-of-type {\n        vertical-align: middle;\n    }\n\n    .dataframe tbody tr th {\n        vertical-align: top;\n    }\n\n    .dataframe thead th {\n        text-align: right;\n    }\n</style>\n<table border=\"1\" class=\"dataframe\">\n  <thead>\n    <tr style=\"text-align: right;\">\n      <th></th>\n      <th>PU_location_id</th>\n      <th>PULocation_x</th>\n      <th>PULocation_y</th>\n    </tr>\n  </thead>\n  <tbody>\n    <tr>\n      <th>0</th>\n      <td>0</td>\n      <td>-73.981532</td>\n      <td>40.773633</td>\n    </tr>\n    <tr>\n      <th>1</th>\n      <td>1</td>\n      <td>-73.957012</td>\n      <td>40.780436</td>\n    </tr>\n    <tr>\n      <th>2</th>\n      <td>2</td>\n      <td>-73.961764</td>\n      <td>40.809457</td>\n    </tr>\n    <tr>\n      <th>3</th>\n      <td>3</td>\n      <td>-73.997380</td>\n      <td>40.728340</td>\n    </tr>\n    <tr>\n      <th>4</th>\n      <td>4</td>\n      <td>-73.999917</td>\n      <td>40.748428</td>\n    </tr>\n    <tr>\n      <th>...</th>\n      <td>...</td>\n      <td>...</td>\n      <td>...</td>\n    </tr>\n    <tr>\n      <th>995</th>\n      <td>995</td>\n      <td>-73.985937</td>\n      <td>40.727620</td>\n    </tr>\n    <tr>\n      <th>996</th>\n      <td>996</td>\n      <td>-73.985937</td>\n      <td>40.727620</td>\n    </tr>\n    <tr>\n      <th>997</th>\n      <td>997</td>\n      <td>-73.984052</td>\n      <td>40.736824</td>\n    </tr>\n    <tr>\n      <th>998</th>\n      <td>998</td>\n      <td>-73.985156</td>\n      <td>40.748575</td>\n    </tr>\n    <tr>\n      <th>999</th>\n      <td>999</td>\n      <td>-74.008984</td>\n      <td>40.735035</td>\n    </tr>\n  </tbody>\n</table>\n<p>1000 rows × 3 columns</p>\n</div>"
     },
     "execution_count": 46,
     "metadata": {},
     "output_type": "execute_result"
    }
   ],
   "source": [
    "PU_location_dim = df[['PULocation_x', 'PULocation_y']].reset_index(drop=True)\n",
    "PU_location_dim['PU_location_id'] = PU_location_dim.index\n",
    "PU_location_dim[['PU_location_id', 'PULocation_x', 'PULocation_y']]"
   ],
   "metadata": {
    "collapsed": false,
    "ExecuteTime": {
     "start_time": "2023-06-08T00:38:00.602499Z",
     "end_time": "2023-06-08T00:38:00.636165Z"
    }
   }
  },
  {
   "cell_type": "code",
   "execution_count": 47,
   "outputs": [
    {
     "data": {
      "text/plain": "     DO_location_id  DOLocation_x  DOLocation_y\n0                 0    -73.957012     40.773633\n1                 1    -73.940772     40.780436\n2                 2    -73.961764     40.809457\n3                 3    -73.999917     40.728340\n4                 4    -73.977569     40.748428\n..              ...           ...           ...\n995             995    -73.978492     40.727620\n996             996    -73.970443     40.727620\n997             997    -73.984052     40.736824\n998             998    -74.002875     40.748575\n999             999    -73.976598     40.735035\n\n[1000 rows x 3 columns]",
      "text/html": "<div>\n<style scoped>\n    .dataframe tbody tr th:only-of-type {\n        vertical-align: middle;\n    }\n\n    .dataframe tbody tr th {\n        vertical-align: top;\n    }\n\n    .dataframe thead th {\n        text-align: right;\n    }\n</style>\n<table border=\"1\" class=\"dataframe\">\n  <thead>\n    <tr style=\"text-align: right;\">\n      <th></th>\n      <th>DO_location_id</th>\n      <th>DOLocation_x</th>\n      <th>DOLocation_y</th>\n    </tr>\n  </thead>\n  <tbody>\n    <tr>\n      <th>0</th>\n      <td>0</td>\n      <td>-73.957012</td>\n      <td>40.773633</td>\n    </tr>\n    <tr>\n      <th>1</th>\n      <td>1</td>\n      <td>-73.940772</td>\n      <td>40.780436</td>\n    </tr>\n    <tr>\n      <th>2</th>\n      <td>2</td>\n      <td>-73.961764</td>\n      <td>40.809457</td>\n    </tr>\n    <tr>\n      <th>3</th>\n      <td>3</td>\n      <td>-73.999917</td>\n      <td>40.728340</td>\n    </tr>\n    <tr>\n      <th>4</th>\n      <td>4</td>\n      <td>-73.977569</td>\n      <td>40.748428</td>\n    </tr>\n    <tr>\n      <th>...</th>\n      <td>...</td>\n      <td>...</td>\n      <td>...</td>\n    </tr>\n    <tr>\n      <th>995</th>\n      <td>995</td>\n      <td>-73.978492</td>\n      <td>40.727620</td>\n    </tr>\n    <tr>\n      <th>996</th>\n      <td>996</td>\n      <td>-73.970443</td>\n      <td>40.727620</td>\n    </tr>\n    <tr>\n      <th>997</th>\n      <td>997</td>\n      <td>-73.984052</td>\n      <td>40.736824</td>\n    </tr>\n    <tr>\n      <th>998</th>\n      <td>998</td>\n      <td>-74.002875</td>\n      <td>40.748575</td>\n    </tr>\n    <tr>\n      <th>999</th>\n      <td>999</td>\n      <td>-73.976598</td>\n      <td>40.735035</td>\n    </tr>\n  </tbody>\n</table>\n<p>1000 rows × 3 columns</p>\n</div>"
     },
     "execution_count": 47,
     "metadata": {},
     "output_type": "execute_result"
    }
   ],
   "source": [
    "DO_location_dim = df[['DOLocation_x', 'DOLocation_y']].reset_index(drop=True)\n",
    "DO_location_dim['DO_location_id'] = DO_location_dim.index\n",
    "DO_location_dim[['DO_location_id', 'DOLocation_x', 'DOLocation_y']]"
   ],
   "metadata": {
    "collapsed": false,
    "ExecuteTime": {
     "start_time": "2023-06-08T00:38:09.732621Z",
     "end_time": "2023-06-08T00:38:09.751465Z"
    }
   }
  },
  {
   "cell_type": "code",
   "execution_count": 51,
   "outputs": [
    {
     "data": {
      "text/plain": "     payment_type_id  payment_type payment_type_name\n0                  0             1       Credit card\n1                  1             1       Credit card\n2                  2             1       Credit card\n3                  3             2              Cash\n4                  4             1       Credit card\n..               ...           ...               ...\n995              995             1       Credit card\n996              996             2              Cash\n997              997             2              Cash\n998              998             1       Credit card\n999              999             1       Credit card\n\n[1000 rows x 3 columns]",
      "text/html": "<div>\n<style scoped>\n    .dataframe tbody tr th:only-of-type {\n        vertical-align: middle;\n    }\n\n    .dataframe tbody tr th {\n        vertical-align: top;\n    }\n\n    .dataframe thead th {\n        text-align: right;\n    }\n</style>\n<table border=\"1\" class=\"dataframe\">\n  <thead>\n    <tr style=\"text-align: right;\">\n      <th></th>\n      <th>payment_type_id</th>\n      <th>payment_type</th>\n      <th>payment_type_name</th>\n    </tr>\n  </thead>\n  <tbody>\n    <tr>\n      <th>0</th>\n      <td>0</td>\n      <td>1</td>\n      <td>Credit card</td>\n    </tr>\n    <tr>\n      <th>1</th>\n      <td>1</td>\n      <td>1</td>\n      <td>Credit card</td>\n    </tr>\n    <tr>\n      <th>2</th>\n      <td>2</td>\n      <td>1</td>\n      <td>Credit card</td>\n    </tr>\n    <tr>\n      <th>3</th>\n      <td>3</td>\n      <td>2</td>\n      <td>Cash</td>\n    </tr>\n    <tr>\n      <th>4</th>\n      <td>4</td>\n      <td>1</td>\n      <td>Credit card</td>\n    </tr>\n    <tr>\n      <th>...</th>\n      <td>...</td>\n      <td>...</td>\n      <td>...</td>\n    </tr>\n    <tr>\n      <th>995</th>\n      <td>995</td>\n      <td>1</td>\n      <td>Credit card</td>\n    </tr>\n    <tr>\n      <th>996</th>\n      <td>996</td>\n      <td>2</td>\n      <td>Cash</td>\n    </tr>\n    <tr>\n      <th>997</th>\n      <td>997</td>\n      <td>2</td>\n      <td>Cash</td>\n    </tr>\n    <tr>\n      <th>998</th>\n      <td>998</td>\n      <td>1</td>\n      <td>Credit card</td>\n    </tr>\n    <tr>\n      <th>999</th>\n      <td>999</td>\n      <td>1</td>\n      <td>Credit card</td>\n    </tr>\n  </tbody>\n</table>\n<p>1000 rows × 3 columns</p>\n</div>"
     },
     "execution_count": 51,
     "metadata": {},
     "output_type": "execute_result"
    }
   ],
   "source": [
    "payment_type_dim = df[['payment_type']].reset_index(drop=True)\n",
    "payment_type_dim['payment_type_id'] = payment_type_dim.index\n",
    "payment_name_dict = {1: 'Credit card', 2: 'Cash', 3: 'No charge', 4: 'Dispute', 5: 'Unknown', 6: 'Voided trip'}\n",
    "payment_type_dim['payment_type_name'] = payment_type_dim['payment_type'].map(payment_name_dict)\n",
    "payment_type_dim[['payment_type_id', 'payment_type', 'payment_type_name']]"
   ],
   "metadata": {
    "collapsed": false,
    "ExecuteTime": {
     "start_time": "2023-06-08T00:40:59.040716Z",
     "end_time": "2023-06-08T00:40:59.063758Z"
    }
   }
  },
  {
   "cell_type": "code",
   "execution_count": 52,
   "outputs": [
    {
     "data": {
      "text/plain": "     rate_code_id  RatecodeID rate_code_name\n0               0         1.0  Standard rate\n1               1         1.0  Standard rate\n2               2         1.0  Standard rate\n3               3         1.0  Standard rate\n4               4         1.0  Standard rate\n..            ...         ...            ...\n995           995         1.0  Standard rate\n996           996         1.0  Standard rate\n997           997         1.0  Standard rate\n998           998         1.0  Standard rate\n999           999         1.0  Standard rate\n\n[1000 rows x 3 columns]",
      "text/html": "<div>\n<style scoped>\n    .dataframe tbody tr th:only-of-type {\n        vertical-align: middle;\n    }\n\n    .dataframe tbody tr th {\n        vertical-align: top;\n    }\n\n    .dataframe thead th {\n        text-align: right;\n    }\n</style>\n<table border=\"1\" class=\"dataframe\">\n  <thead>\n    <tr style=\"text-align: right;\">\n      <th></th>\n      <th>rate_code_id</th>\n      <th>RatecodeID</th>\n      <th>rate_code_name</th>\n    </tr>\n  </thead>\n  <tbody>\n    <tr>\n      <th>0</th>\n      <td>0</td>\n      <td>1.0</td>\n      <td>Standard rate</td>\n    </tr>\n    <tr>\n      <th>1</th>\n      <td>1</td>\n      <td>1.0</td>\n      <td>Standard rate</td>\n    </tr>\n    <tr>\n      <th>2</th>\n      <td>2</td>\n      <td>1.0</td>\n      <td>Standard rate</td>\n    </tr>\n    <tr>\n      <th>3</th>\n      <td>3</td>\n      <td>1.0</td>\n      <td>Standard rate</td>\n    </tr>\n    <tr>\n      <th>4</th>\n      <td>4</td>\n      <td>1.0</td>\n      <td>Standard rate</td>\n    </tr>\n    <tr>\n      <th>...</th>\n      <td>...</td>\n      <td>...</td>\n      <td>...</td>\n    </tr>\n    <tr>\n      <th>995</th>\n      <td>995</td>\n      <td>1.0</td>\n      <td>Standard rate</td>\n    </tr>\n    <tr>\n      <th>996</th>\n      <td>996</td>\n      <td>1.0</td>\n      <td>Standard rate</td>\n    </tr>\n    <tr>\n      <th>997</th>\n      <td>997</td>\n      <td>1.0</td>\n      <td>Standard rate</td>\n    </tr>\n    <tr>\n      <th>998</th>\n      <td>998</td>\n      <td>1.0</td>\n      <td>Standard rate</td>\n    </tr>\n    <tr>\n      <th>999</th>\n      <td>999</td>\n      <td>1.0</td>\n      <td>Standard rate</td>\n    </tr>\n  </tbody>\n</table>\n<p>1000 rows × 3 columns</p>\n</div>"
     },
     "execution_count": 52,
     "metadata": {},
     "output_type": "execute_result"
    }
   ],
   "source": [
    "rate_code_dim = df[['RatecodeID']].reset_index(drop=True)\n",
    "rate_code_dim['rate_code_id'] = rate_code_dim.index\n",
    "rate_code_name_dict = {1: 'Standard rate', 2: 'JFK', 3: 'Newark', 4: 'Nassau or Westchester', 5: 'Negotiated fare', 6: 'Group ride'}\n",
    "rate_code_dim['rate_code_name'] = rate_code_dim['RatecodeID'].map(rate_code_name_dict)\n",
    "rate_code_dim[['rate_code_id', 'RatecodeID', 'rate_code_name']]"
   ],
   "metadata": {
    "collapsed": false,
    "ExecuteTime": {
     "start_time": "2023-06-08T00:41:30.218046Z",
     "end_time": "2023-06-08T00:41:30.237672Z"
    }
   }
  },
  {
   "cell_type": "code",
   "execution_count": null,
   "outputs": [],
   "source": [],
   "metadata": {
    "collapsed": false
   }
  },
  {
   "cell_type": "code",
   "execution_count": 54,
   "outputs": [],
   "source": [
    "fact_table = df.merge(passenger_count_dim, left_on='trip_id', right_on='passenger_count_id').merge(trip_distance_dim, left_on='trip_id', right_on='trip_distance_id').merge(rate_code_dim, left_on='trip_id', right_on='rate_code_id').merge(PU_location_dim, left_on='trip_id', right_on='PU_location_id').merge(DO_location_dim, left_on='trip_id', right_on='DO_location_id').merge(datetime_dim, left_on='trip_id', right_on='datetime_id').merge(payment_type_dim, left_on='trip_id', right_on='payment_type_id')[['trip_id','VendorID', 'datetime_id', 'passenger_count_id',\n",
    "               'trip_distance_id', 'rate_code_id', 'store_and_fwd_flag', 'PU_location_id', 'DO_location_id',\n",
    "               'payment_type_id', 'fare_amount', 'extra', 'mta_tax', 'tip_amount', 'tolls_amount',\n",
    "               'improvement_surcharge', 'total_amount']]"
   ],
   "metadata": {
    "collapsed": false,
    "ExecuteTime": {
     "start_time": "2023-06-08T00:49:03.730676Z",
     "end_time": "2023-06-08T00:49:03.763841Z"
    }
   }
  },
  {
   "cell_type": "code",
   "execution_count": 55,
   "outputs": [
    {
     "data": {
      "text/plain": "     trip_id  VendorID  datetime_id  passenger_count_id  trip_distance_id  \\\n0          0         1            0                   0                 0   \n1          1         1            1                   1                 1   \n2          2         2            2                   2                 2   \n3          3         2            3                   3                 3   \n4          4         2            4                   4                 4   \n..       ...       ...          ...                 ...               ...   \n995      995         2          995                 995               995   \n996      996         2          996                 996               996   \n997      997         2          997                 997               997   \n998      998         2          998                 998               998   \n999      999         2          999                 999               999   \n\n     rate_code_id store_and_fwd_flag  PU_location_id  DO_location_id  \\\n0               0                  N               0               0   \n1               1                  N               1               1   \n2               2                  N               2               2   \n3               3                  N               3               3   \n4               4                  N               4               4   \n..            ...                ...             ...             ...   \n995           995                  N             995             995   \n996           996                  N             996             996   \n997           997                  N             997             997   \n998           998                  N             998             998   \n999           999                  N             999             999   \n\n     payment_type_id  fare_amount  extra  mta_tax  tip_amount  tolls_amount  \\\n0                  0         14.5    3.0      0.5        3.65           0.0   \n1                  1          8.0    0.5      0.5        4.00           0.0   \n2                  2          7.5    0.5      0.5        1.76           0.0   \n3                  3          8.0    0.5      0.5        0.00           0.0   \n4                  4         23.5    0.5      0.5        3.00           0.0   \n..               ...          ...    ...      ...         ...           ...   \n995              995          5.0    0.5      0.5        1.76           0.0   \n996              996         10.0    0.5      0.5        0.00           0.0   \n997              997          4.0    0.5      0.5        0.00           0.0   \n998              998          9.0    0.5      0.5        1.00           0.0   \n999              999          8.0    0.5      0.5        1.18           0.0   \n\n     improvement_surcharge  total_amount  \n0                      0.3         21.95  \n1                      0.3         13.30  \n2                      0.3         10.56  \n3                      0.3         11.80  \n4                      0.3         30.30  \n..                     ...           ...  \n995                    0.3         10.56  \n996                    0.3         13.80  \n997                    0.3          7.80  \n998                    0.3         13.80  \n999                    0.3         12.98  \n\n[1000 rows x 17 columns]",
      "text/html": "<div>\n<style scoped>\n    .dataframe tbody tr th:only-of-type {\n        vertical-align: middle;\n    }\n\n    .dataframe tbody tr th {\n        vertical-align: top;\n    }\n\n    .dataframe thead th {\n        text-align: right;\n    }\n</style>\n<table border=\"1\" class=\"dataframe\">\n  <thead>\n    <tr style=\"text-align: right;\">\n      <th></th>\n      <th>trip_id</th>\n      <th>VendorID</th>\n      <th>datetime_id</th>\n      <th>passenger_count_id</th>\n      <th>trip_distance_id</th>\n      <th>rate_code_id</th>\n      <th>store_and_fwd_flag</th>\n      <th>PU_location_id</th>\n      <th>DO_location_id</th>\n      <th>payment_type_id</th>\n      <th>fare_amount</th>\n      <th>extra</th>\n      <th>mta_tax</th>\n      <th>tip_amount</th>\n      <th>tolls_amount</th>\n      <th>improvement_surcharge</th>\n      <th>total_amount</th>\n    </tr>\n  </thead>\n  <tbody>\n    <tr>\n      <th>0</th>\n      <td>0</td>\n      <td>1</td>\n      <td>0</td>\n      <td>0</td>\n      <td>0</td>\n      <td>0</td>\n      <td>N</td>\n      <td>0</td>\n      <td>0</td>\n      <td>0</td>\n      <td>14.5</td>\n      <td>3.0</td>\n      <td>0.5</td>\n      <td>3.65</td>\n      <td>0.0</td>\n      <td>0.3</td>\n      <td>21.95</td>\n    </tr>\n    <tr>\n      <th>1</th>\n      <td>1</td>\n      <td>1</td>\n      <td>1</td>\n      <td>1</td>\n      <td>1</td>\n      <td>1</td>\n      <td>N</td>\n      <td>1</td>\n      <td>1</td>\n      <td>1</td>\n      <td>8.0</td>\n      <td>0.5</td>\n      <td>0.5</td>\n      <td>4.00</td>\n      <td>0.0</td>\n      <td>0.3</td>\n      <td>13.30</td>\n    </tr>\n    <tr>\n      <th>2</th>\n      <td>2</td>\n      <td>2</td>\n      <td>2</td>\n      <td>2</td>\n      <td>2</td>\n      <td>2</td>\n      <td>N</td>\n      <td>2</td>\n      <td>2</td>\n      <td>2</td>\n      <td>7.5</td>\n      <td>0.5</td>\n      <td>0.5</td>\n      <td>1.76</td>\n      <td>0.0</td>\n      <td>0.3</td>\n      <td>10.56</td>\n    </tr>\n    <tr>\n      <th>3</th>\n      <td>3</td>\n      <td>2</td>\n      <td>3</td>\n      <td>3</td>\n      <td>3</td>\n      <td>3</td>\n      <td>N</td>\n      <td>3</td>\n      <td>3</td>\n      <td>3</td>\n      <td>8.0</td>\n      <td>0.5</td>\n      <td>0.5</td>\n      <td>0.00</td>\n      <td>0.0</td>\n      <td>0.3</td>\n      <td>11.80</td>\n    </tr>\n    <tr>\n      <th>4</th>\n      <td>4</td>\n      <td>2</td>\n      <td>4</td>\n      <td>4</td>\n      <td>4</td>\n      <td>4</td>\n      <td>N</td>\n      <td>4</td>\n      <td>4</td>\n      <td>4</td>\n      <td>23.5</td>\n      <td>0.5</td>\n      <td>0.5</td>\n      <td>3.00</td>\n      <td>0.0</td>\n      <td>0.3</td>\n      <td>30.30</td>\n    </tr>\n    <tr>\n      <th>...</th>\n      <td>...</td>\n      <td>...</td>\n      <td>...</td>\n      <td>...</td>\n      <td>...</td>\n      <td>...</td>\n      <td>...</td>\n      <td>...</td>\n      <td>...</td>\n      <td>...</td>\n      <td>...</td>\n      <td>...</td>\n      <td>...</td>\n      <td>...</td>\n      <td>...</td>\n      <td>...</td>\n      <td>...</td>\n    </tr>\n    <tr>\n      <th>995</th>\n      <td>995</td>\n      <td>2</td>\n      <td>995</td>\n      <td>995</td>\n      <td>995</td>\n      <td>995</td>\n      <td>N</td>\n      <td>995</td>\n      <td>995</td>\n      <td>995</td>\n      <td>5.0</td>\n      <td>0.5</td>\n      <td>0.5</td>\n      <td>1.76</td>\n      <td>0.0</td>\n      <td>0.3</td>\n      <td>10.56</td>\n    </tr>\n    <tr>\n      <th>996</th>\n      <td>996</td>\n      <td>2</td>\n      <td>996</td>\n      <td>996</td>\n      <td>996</td>\n      <td>996</td>\n      <td>N</td>\n      <td>996</td>\n      <td>996</td>\n      <td>996</td>\n      <td>10.0</td>\n      <td>0.5</td>\n      <td>0.5</td>\n      <td>0.00</td>\n      <td>0.0</td>\n      <td>0.3</td>\n      <td>13.80</td>\n    </tr>\n    <tr>\n      <th>997</th>\n      <td>997</td>\n      <td>2</td>\n      <td>997</td>\n      <td>997</td>\n      <td>997</td>\n      <td>997</td>\n      <td>N</td>\n      <td>997</td>\n      <td>997</td>\n      <td>997</td>\n      <td>4.0</td>\n      <td>0.5</td>\n      <td>0.5</td>\n      <td>0.00</td>\n      <td>0.0</td>\n      <td>0.3</td>\n      <td>7.80</td>\n    </tr>\n    <tr>\n      <th>998</th>\n      <td>998</td>\n      <td>2</td>\n      <td>998</td>\n      <td>998</td>\n      <td>998</td>\n      <td>998</td>\n      <td>N</td>\n      <td>998</td>\n      <td>998</td>\n      <td>998</td>\n      <td>9.0</td>\n      <td>0.5</td>\n      <td>0.5</td>\n      <td>1.00</td>\n      <td>0.0</td>\n      <td>0.3</td>\n      <td>13.80</td>\n    </tr>\n    <tr>\n      <th>999</th>\n      <td>999</td>\n      <td>2</td>\n      <td>999</td>\n      <td>999</td>\n      <td>999</td>\n      <td>999</td>\n      <td>N</td>\n      <td>999</td>\n      <td>999</td>\n      <td>999</td>\n      <td>8.0</td>\n      <td>0.5</td>\n      <td>0.5</td>\n      <td>1.18</td>\n      <td>0.0</td>\n      <td>0.3</td>\n      <td>12.98</td>\n    </tr>\n  </tbody>\n</table>\n<p>1000 rows × 17 columns</p>\n</div>"
     },
     "execution_count": 55,
     "metadata": {},
     "output_type": "execute_result"
    }
   ],
   "source": [
    "fact_table"
   ],
   "metadata": {
    "collapsed": false,
    "ExecuteTime": {
     "start_time": "2023-06-08T00:49:07.818546Z",
     "end_time": "2023-06-08T00:49:07.862581Z"
    }
   }
  },
  {
   "cell_type": "code",
   "execution_count": null,
   "outputs": [],
   "source": [],
   "metadata": {
    "collapsed": false
   }
  }
 ],
 "metadata": {
  "kernelspec": {
   "display_name": "Python 3",
   "language": "python",
   "name": "python3"
  },
  "language_info": {
   "codemirror_mode": {
    "name": "ipython",
    "version": 2
   },
   "file_extension": ".py",
   "mimetype": "text/x-python",
   "name": "python",
   "nbconvert_exporter": "python",
   "pygments_lexer": "ipython2",
   "version": "2.7.6"
  }
 },
 "nbformat": 4,
 "nbformat_minor": 0
}
